{
 "cells": [
  {
   "cell_type": "markdown",
   "metadata": {},
   "source": [
    "# Plan for Python work\n",
    "\n",
    "1) My _suggestion_ is to proceed as before and work through the notebook , switching every 5 or so minutes, discussing in each cell what the lines mean.  You may do something differently if you both agree. \n",
    "\n",
    "2) I provide a number of commands below (and prompts) , some of the things you need to figure out yourself and some of the tasks I have completed for you \n",
    "\n",
    "3) Make sure you understand how much time you have (ask me if you don't know) and plan accordingly. There is a lot of infromation in here!\n",
    "\n",
    "4) Plenty of suggestions at the bottom for more things to try - you should take a look and make sure you can do all of these things... \n",
    "\n",
    "#### You may need to `conda install` some stuff, e.g.\n",
    "`conda install xlrd`"
   ]
  },
  {
   "cell_type": "code",
   "execution_count": 10,
   "metadata": {},
   "outputs": [],
   "source": [
    "#A bunch of libraries and packages \n",
    "import numpy as np\n",
    "import matplotlib.pyplot as plt\n",
    "import pandas as pd\n",
    "import xlrd\n",
    "\n",
    "from sklearn import linear_model\n",
    "from pandas.tools.plotting import scatter_matrix\n",
    "from sklearn.model_selection import train_test_split\n",
    "from sklearn.metrics import mean_squared_error\n",
    "from sklearn.linear_model import Ridge\n",
    "from sklearn.preprocessing import StandardScaler\n",
    "%matplotlib inline"
   ]
  },
  {
   "cell_type": "code",
   "execution_count": 2,
   "metadata": {},
   "outputs": [],
   "source": [
    "# UCI ML database - energy efficiency\n",
    "# Database of many ML data available here: https://archive.ics.uci.edu/ml/\n",
    "\n",
    "UCI_energy = pd.read_excel('https://archive.ics.uci.edu/ml/machine-learning-databases/00242/ENB2012_data.xlsx')\n",
    "\n",
    "# definition of dataframes \n",
    "# X1\tRelative Compactness \n",
    "# X2\tSurface Area \n",
    "# X3\tWall Area \n",
    "# X4\tRoof Area \n",
    "# X5\tOverall Height \n",
    "# X6\tOrientation \n",
    "# X7\tGlazing Area \n",
    "# X8\tGlazing Area Distribution \n",
    "# y1\tHeating Load \n",
    "# y2\tCooling Load"
   ]
  },
  {
   "cell_type": "markdown",
   "metadata": {},
   "source": [
    "### Take a moment to rename the columns in the data frame\n",
    "\n",
    "Also, head, tail, describe and scatterplot the data as a means of basic data exploration."
   ]
  },
  {
   "cell_type": "code",
   "execution_count": 3,
   "metadata": {},
   "outputs": [],
   "source": [
    "UCI_energy = UCI_energy.rename(columns={'X1':'Relative Compactness', 'X2':'Surface Area', 'X3':'Wall Area', 'X4':'Roof Area', 'X5':'Overall Height',\n",
    "                           'X6':'Orientation', 'X7':'Glazing Area', 'X8':'Glazing Area Distribution', 'Y1':'Heating Load',\n",
    "                           'Y2':'Cooling Load'})"
   ]
  },
  {
   "cell_type": "code",
   "execution_count": 4,
   "metadata": {},
   "outputs": [
    {
     "data": {
      "text/html": [
       "<div>\n",
       "<style scoped>\n",
       "    .dataframe tbody tr th:only-of-type {\n",
       "        vertical-align: middle;\n",
       "    }\n",
       "\n",
       "    .dataframe tbody tr th {\n",
       "        vertical-align: top;\n",
       "    }\n",
       "\n",
       "    .dataframe thead th {\n",
       "        text-align: right;\n",
       "    }\n",
       "</style>\n",
       "<table border=\"1\" class=\"dataframe\">\n",
       "  <thead>\n",
       "    <tr style=\"text-align: right;\">\n",
       "      <th></th>\n",
       "      <th>Relative Compactness</th>\n",
       "      <th>Surface Area</th>\n",
       "      <th>Wall Area</th>\n",
       "      <th>Roof Area</th>\n",
       "      <th>Overall Height</th>\n",
       "      <th>Orientation</th>\n",
       "      <th>Glazing Area</th>\n",
       "      <th>Glazing Area Distribution</th>\n",
       "      <th>Heating Load</th>\n",
       "      <th>Cooling Load</th>\n",
       "    </tr>\n",
       "  </thead>\n",
       "  <tbody>\n",
       "    <tr>\n",
       "      <th>0</th>\n",
       "      <td>0.98</td>\n",
       "      <td>514.5</td>\n",
       "      <td>294.0</td>\n",
       "      <td>110.25</td>\n",
       "      <td>7.0</td>\n",
       "      <td>2</td>\n",
       "      <td>0.0</td>\n",
       "      <td>0</td>\n",
       "      <td>15.55</td>\n",
       "      <td>21.33</td>\n",
       "    </tr>\n",
       "    <tr>\n",
       "      <th>1</th>\n",
       "      <td>0.98</td>\n",
       "      <td>514.5</td>\n",
       "      <td>294.0</td>\n",
       "      <td>110.25</td>\n",
       "      <td>7.0</td>\n",
       "      <td>3</td>\n",
       "      <td>0.0</td>\n",
       "      <td>0</td>\n",
       "      <td>15.55</td>\n",
       "      <td>21.33</td>\n",
       "    </tr>\n",
       "    <tr>\n",
       "      <th>2</th>\n",
       "      <td>0.98</td>\n",
       "      <td>514.5</td>\n",
       "      <td>294.0</td>\n",
       "      <td>110.25</td>\n",
       "      <td>7.0</td>\n",
       "      <td>4</td>\n",
       "      <td>0.0</td>\n",
       "      <td>0</td>\n",
       "      <td>15.55</td>\n",
       "      <td>21.33</td>\n",
       "    </tr>\n",
       "    <tr>\n",
       "      <th>3</th>\n",
       "      <td>0.98</td>\n",
       "      <td>514.5</td>\n",
       "      <td>294.0</td>\n",
       "      <td>110.25</td>\n",
       "      <td>7.0</td>\n",
       "      <td>5</td>\n",
       "      <td>0.0</td>\n",
       "      <td>0</td>\n",
       "      <td>15.55</td>\n",
       "      <td>21.33</td>\n",
       "    </tr>\n",
       "    <tr>\n",
       "      <th>4</th>\n",
       "      <td>0.90</td>\n",
       "      <td>563.5</td>\n",
       "      <td>318.5</td>\n",
       "      <td>122.50</td>\n",
       "      <td>7.0</td>\n",
       "      <td>2</td>\n",
       "      <td>0.0</td>\n",
       "      <td>0</td>\n",
       "      <td>20.84</td>\n",
       "      <td>28.28</td>\n",
       "    </tr>\n",
       "  </tbody>\n",
       "</table>\n",
       "</div>"
      ],
      "text/plain": [
       "   Relative Compactness  Surface Area  Wall Area  Roof Area  Overall Height  \\\n",
       "0                  0.98         514.5      294.0     110.25             7.0   \n",
       "1                  0.98         514.5      294.0     110.25             7.0   \n",
       "2                  0.98         514.5      294.0     110.25             7.0   \n",
       "3                  0.98         514.5      294.0     110.25             7.0   \n",
       "4                  0.90         563.5      318.5     122.50             7.0   \n",
       "\n",
       "   Orientation  Glazing Area  Glazing Area Distribution  Heating Load  \\\n",
       "0            2           0.0                          0         15.55   \n",
       "1            3           0.0                          0         15.55   \n",
       "2            4           0.0                          0         15.55   \n",
       "3            5           0.0                          0         15.55   \n",
       "4            2           0.0                          0         20.84   \n",
       "\n",
       "   Cooling Load  \n",
       "0         21.33  \n",
       "1         21.33  \n",
       "2         21.33  \n",
       "3         21.33  \n",
       "4         28.28  "
      ]
     },
     "execution_count": 4,
     "metadata": {},
     "output_type": "execute_result"
    }
   ],
   "source": [
    "UCI_energy.head()"
   ]
  },
  {
   "cell_type": "markdown",
   "metadata": {},
   "source": [
    "#### Now make a test-train split"
   ]
  },
  {
   "cell_type": "code",
   "execution_count": 5,
   "metadata": {},
   "outputs": [],
   "source": [
    "# This is a naive validation set approach. Please understand and briefly discuss this is just for teaching\n",
    "# What would you do in the real world based on our bootstrap/resampling lessons? \n",
    "train,test = train_test_split(UCI_energy, test_size=0.05, random_state=1010)\n",
    "\n",
    "# have you had a look at the data yet? quickly do so before moving on..."
   ]
  },
  {
   "cell_type": "code",
   "execution_count": null,
   "metadata": {},
   "outputs": [],
   "source": []
  },
  {
   "cell_type": "code",
   "execution_count": 6,
   "metadata": {},
   "outputs": [
    {
     "data": {
      "text/plain": [
       "array(['Relative Compactness', 'Surface Area', 'Wall Area', 'Roof Area',\n",
       "       'Overall Height', 'Orientation', 'Glazing Area',\n",
       "       'Glazing Area Distribution'], dtype=object)"
      ]
     },
     "execution_count": 6,
     "metadata": {},
     "output_type": "execute_result"
    }
   ],
   "source": [
    "train.columns.values[0:8]"
   ]
  },
  {
   "cell_type": "markdown",
   "metadata": {},
   "source": [
    "# Part 1: Multiple linear regression on X1-X8 predicting Y1 "
   ]
  },
  {
   "cell_type": "markdown",
   "metadata": {},
   "source": [
    "If you took the time to rename your columns, good for you.  Now you need to fix up the code below.  That will make you read it carefully!\n",
    "\n",
    "BTW, when you do something like rename a variable across all your code, that is called refactoring.  It is dangerous and it often is good to use something like PyCharm's `refactor` tool."
   ]
  },
  {
   "cell_type": "code",
   "execution_count": 9,
   "metadata": {},
   "outputs": [
    {
     "name": "stdout",
     "output_type": "stream",
     "text": [
      "Train error 8.233946585244846\n",
      "Test error 13.905810081799487\n"
     ]
    },
    {
     "data": {
      "image/png": "[encoded data removed]",
      "text/plain": [
       "<Figure size 504x504 with 1 Axes>"
      ]
     },
     "metadata": {
      "needs_background": "light"
     },
     "output_type": "display_data"
    }
   ],
   "source": [
    "# train linear model \n",
    "MLR=linear_model.LinearRegression()\n",
    "MLR.fit(train[train.columns.values[0:8]],train[train.columns.values[8]])\n",
    "\n",
    "# make predictions on test and train set \n",
    "trainpred=MLR.predict(train[train.columns.values[0:8]])\n",
    "testpred=MLR.predict(test[train.columns.values[0:8]])\n",
    "\n",
    "#make parity plot \n",
    "plt.figure(figsize=(7,7))\n",
    "plt.xlim([0,50]);\n",
    "plt.ylim([0,50]);\n",
    "plt.scatter(train[train.columns.values[8]],trainpred, label='Training')\n",
    "plt.scatter(test[train.columns.values[8]],testpred,color='r', label='Test')\n",
    "plt.plot([0,50],[0,50],lw=4,color='black')\n",
    "plt.legend()\n",
    "plt.xlabel('Actual Output')\n",
    "plt.ylabel('Predicted Output')\n",
    "\n",
    "#calculate the test and train error\n",
    "print(\"Train error\",mean_squared_error(train[train.columns.values[8]],trainpred))\n",
    "print(\"Test error\",mean_squared_error(test[train.columns.values[8]],testpred))"
   ]
  },
  {
   "cell_type": "markdown",
   "metadata": {},
   "source": [
    "# Part 2: Ridge Regression (same data as Part 1)\n",
    "\n",
    "* The Ridge coefficients minimize $RSS + \\lambda \\sum_{j=1}^{p}\\beta_j^2$\n",
    "    * There is an additional **penalty** in error for having nonzero coefficients!\n",
    "* Note: Eq 6.5 in ISLR shows the tuning parameter as $\\lambda$, it is $\\alpha$ in SKLearn\n",
    "* Goal here: train models as a function of the regularization parameter \n",
    "* The X's should be normalized as in Eq 6.6, there is a normalization feature, but we will do it manually using $x_{ij}=\\frac{x_{ij}}{s_j}$\n",
    "    * I suggest on your own you test out what normalization in Ridge does\n",
    "    * Some methods in sklearn also do automatic selection of shrinkage coefficient! Cool! "
   ]
  },
  {
   "cell_type": "code",
   "execution_count": 16,
   "metadata": {},
   "outputs": [],
   "source": [
    "#normalized data for Ridge / LASSO \n",
    "# train_normalized=train/train.std()\n",
    "# test_normalized=test/test.std()\n",
    "scaler = StandardScaler().fit(train)\n",
    "train_normalized = pd.DataFrame(data=scaler.transform(train), columns=train.columns)\n",
    "test_normalized = pd.DataFrame(data=scaler.transform(test), columns=test.columns)"
   ]
  },
  {
   "cell_type": "code",
   "execution_count": 17,
   "metadata": {},
   "outputs": [
    {
     "data": {
      "text/html": [
       "<div>\n",
       "<style scoped>\n",
       "    .dataframe tbody tr th:only-of-type {\n",
       "        vertical-align: middle;\n",
       "    }\n",
       "\n",
       "    .dataframe tbody tr th {\n",
       "        vertical-align: top;\n",
       "    }\n",
       "\n",
       "    .dataframe thead th {\n",
       "        text-align: right;\n",
       "    }\n",
       "</style>\n",
       "<table border=\"1\" class=\"dataframe\">\n",
       "  <thead>\n",
       "    <tr style=\"text-align: right;\">\n",
       "      <th></th>\n",
       "      <th>Relative Compactness</th>\n",
       "      <th>Surface Area</th>\n",
       "      <th>Wall Area</th>\n",
       "      <th>Roof Area</th>\n",
       "      <th>Overall Height</th>\n",
       "      <th>Orientation</th>\n",
       "      <th>Glazing Area</th>\n",
       "      <th>Glazing Area Distribution</th>\n",
       "      <th>Heating Load</th>\n",
       "      <th>Cooling Load</th>\n",
       "    </tr>\n",
       "  </thead>\n",
       "  <tbody>\n",
       "    <tr>\n",
       "      <th>0</th>\n",
       "      <td>-0.047922</td>\n",
       "      <td>-0.107774</td>\n",
       "      <td>2.269345</td>\n",
       "      <td>-1.194190</td>\n",
       "      <td>0.995893</td>\n",
       "      <td>-1.342992</td>\n",
       "      <td>-1.017698</td>\n",
       "      <td>-0.519866</td>\n",
       "      <td>1.080212</td>\n",
       "      <td>0.980157</td>\n",
       "    </tr>\n",
       "    <tr>\n",
       "      <th>1</th>\n",
       "      <td>0.515550</td>\n",
       "      <td>-0.661064</td>\n",
       "      <td>0.006983</td>\n",
       "      <td>-0.651613</td>\n",
       "      <td>0.995893</td>\n",
       "      <td>-1.342992</td>\n",
       "      <td>1.248805</td>\n",
       "      <td>0.126862</td>\n",
       "      <td>0.632590</td>\n",
       "      <td>0.824216</td>\n",
       "    </tr>\n",
       "    <tr>\n",
       "      <th>2</th>\n",
       "      <td>-1.362689</td>\n",
       "      <td>1.552097</td>\n",
       "      <td>1.138164</td>\n",
       "      <td>0.976117</td>\n",
       "      <td>-1.004124</td>\n",
       "      <td>0.446845</td>\n",
       "      <td>-1.773199</td>\n",
       "      <td>-1.813321</td>\n",
       "      <td>-1.383205</td>\n",
       "      <td>-1.319973</td>\n",
       "    </tr>\n",
       "    <tr>\n",
       "      <th>3</th>\n",
       "      <td>-0.235746</td>\n",
       "      <td>0.168871</td>\n",
       "      <td>-1.689789</td>\n",
       "      <td>0.976117</td>\n",
       "      <td>-1.004124</td>\n",
       "      <td>-1.342992</td>\n",
       "      <td>-1.017698</td>\n",
       "      <td>-1.166594</td>\n",
       "      <td>-1.192791</td>\n",
       "      <td>-1.177729</td>\n",
       "    </tr>\n",
       "    <tr>\n",
       "      <th>4</th>\n",
       "      <td>-0.987042</td>\n",
       "      <td>0.998807</td>\n",
       "      <td>0.006983</td>\n",
       "      <td>0.976117</td>\n",
       "      <td>-1.004124</td>\n",
       "      <td>-1.342992</td>\n",
       "      <td>1.248805</td>\n",
       "      <td>1.420317</td>\n",
       "      <td>-0.734203</td>\n",
       "      <td>-0.734140</td>\n",
       "    </tr>\n",
       "  </tbody>\n",
       "</table>\n",
       "</div>"
      ],
      "text/plain": [
       "   Relative Compactness  Surface Area  Wall Area  Roof Area  Overall Height  \\\n",
       "0             -0.047922     -0.107774   2.269345  -1.194190        0.995893   \n",
       "1              0.515550     -0.661064   0.006983  -0.651613        0.995893   \n",
       "2             -1.362689      1.552097   1.138164   0.976117       -1.004124   \n",
       "3             -0.235746      0.168871  -1.689789   0.976117       -1.004124   \n",
       "4             -0.987042      0.998807   0.006983   0.976117       -1.004124   \n",
       "\n",
       "   Orientation  Glazing Area  Glazing Area Distribution  Heating Load  \\\n",
       "0    -1.342992     -1.017698                  -0.519866      1.080212   \n",
       "1    -1.342992      1.248805                   0.126862      0.632590   \n",
       "2     0.446845     -1.773199                  -1.813321     -1.383205   \n",
       "3    -1.342992     -1.017698                  -1.166594     -1.192791   \n",
       "4    -1.342992      1.248805                   1.420317     -0.734203   \n",
       "\n",
       "   Cooling Load  \n",
       "0      0.980157  \n",
       "1      0.824216  \n",
       "2     -1.319973  \n",
       "3     -1.177729  \n",
       "4     -0.734140  "
      ]
     },
     "execution_count": 17,
     "metadata": {},
     "output_type": "execute_result"
    }
   ],
   "source": [
    "test_normalized.head()"
   ]
  },
  {
   "cell_type": "markdown",
   "metadata": {},
   "source": [
    "## 2-1 Example of single instance of RR\n"
   ]
  },
  {
   "cell_type": "code",
   "execution_count": 27,
   "metadata": {},
   "outputs": [
    {
     "data": {
      "text/plain": [
       "Ridge(alpha=10.0, copy_X=True, fit_intercept=True, max_iter=None,\n",
       "   normalize=False, random_state=None, solver='auto', tol=0.001)"
      ]
     },
     "execution_count": 27,
     "metadata": {},
     "output_type": "execute_result"
    }
   ],
   "source": [
    "heat_ridge=Ridge()\n",
    "a=1e1\n",
    "heat_ridge.set_params(alpha=a)\n",
    "heat_ridge.fit(train_normalized[train.columns.values[0:8]],train_normalized[train.columns.values[8]])\n"
   ]
  },
  {
   "cell_type": "code",
   "execution_count": 31,
   "metadata": {},
   "outputs": [
    {
     "name": "stdout",
     "output_type": "stream",
     "text": [
      "0.0842688796533094\n",
      "0.13805582847377307\n"
     ]
    }
   ],
   "source": [
    "print (mean_squared_error(train_normalized[train.columns.values[8]],heat_ridge.predict(\n",
    "        train_normalized[train.columns.values[0:8]])))\n",
    "\n",
    "print (mean_squared_error(test_normalized[train.columns.values[8]],heat_ridge.predict(\n",
    "        test_normalized[train.columns.values[0:8]])))"
   ]
  },
  {
   "cell_type": "code",
   "execution_count": 30,
   "metadata": {},
   "outputs": [
    {
     "data": {
      "text/plain": [
       "Text(0,0.5,'Predicted Output')"
      ]
     },
     "execution_count": 30,
     "metadata": {},
     "output_type": "execute_result"
    },
    {
     "data": {
      "image/png": "[encoded data removed]",
      "text/plain": [
       "<Figure size 504x504 with 1 Axes>"
      ]
     },
     "metadata": {
      "needs_background": "light"
     },
     "output_type": "display_data"
    }
   ],
   "source": [
    "plt.figure(figsize=(7,7))\n",
    "plt.xlim([-2.5,2.5]);\n",
    "plt.ylim([-2.5,2.5]);\n",
    "plt.scatter(train_normalized[train.columns.values[8]],heat_ridge.predict(\n",
    "        train_normalized[train.columns.values[0:8]]), label='Training')\n",
    "plt.scatter(test_normalized[train.columns.values[8]],heat_ridge.predict(\n",
    "        test_normalized[train.columns.values[0:8]]),color='r', label='Test')\n",
    "plt.plot([-2.5,2.5],[-2.5,2.5],lw=4,color='black')\n",
    "plt.legend()\n",
    "plt.xlabel('Actual Output')\n",
    "plt.ylabel('Predicted Output')"
   ]
  },
  {
   "cell_type": "markdown",
   "metadata": {},
   "source": [
    "## 2-2 Example of searching the $\\alpha$ space in RR"
   ]
  },
  {
   "cell_type": "code",
   "execution_count": 20,
   "metadata": {},
   "outputs": [],
   "source": [
    "# RR vs lambda (based on sklearn tutorial)\n",
    "coefs = []\n",
    "trainerror = []\n",
    "testerror = []\n",
    "\n",
    "# do you know what is happening here? \n",
    "lambdas = np.logspace(-6,6,200)\n",
    "model=Ridge()\n",
    "\n",
    "# loop over lambda values (strength of regularization)\n",
    "for l in lambdas:\n",
    "    model.set_params(alpha=l)\n",
    "    model.fit(train_normalized[train.columns.values[0:8]],train_normalized[train.columns.values[8]])\n",
    "    coefs.append(model.coef_)\n",
    "    trainerror.append(mean_squared_error(train_normalized[train.columns.values[8]],model.predict(\n",
    "        train_normalized[train.columns.values[0:8]])))\n",
    "    testerror.append(mean_squared_error(test_normalized[train.columns.values[8]],model.predict(\n",
    "        test_normalized[train.columns.values[0:8]])))\n",
    "\n",
    "    "
   ]
  },
  {
   "cell_type": "code",
   "execution_count": 21,
   "metadata": {},
   "outputs": [
    {
     "data": {
      "text/plain": [
       "Text(0.5,1,'error vs $\\\\lambda$')"
      ]
     },
     "execution_count": 21,
     "metadata": {},
     "output_type": "execute_result"
    },
    {
     "data": {
      "image/png": "[encoded data removed]",
      "text/plain": [
       "<Figure size 720x216 with 2 Axes>"
      ]
     },
     "metadata": {
      "needs_background": "light"
     },
     "output_type": "display_data"
    }
   ],
   "source": [
    "# what is being plotted here? \n",
    "plt.figure(figsize=(10,3))\n",
    "plt.subplot(121)\n",
    "plt.plot(lambdas,coefs)\n",
    "plt.xscale('log')\n",
    "plt.xlabel('$\\lambda$')\n",
    "plt.ylabel('coefs')\n",
    "plt.title('RR coefs vs $\\lambda$')\n",
    "plt.subplot(122)\n",
    "plt.plot(lambdas,trainerror,label='train error')\n",
    "plt.plot(lambdas,testerror,label='test error')\n",
    "plt.xscale('log')\n",
    "plt.xlabel('$\\lambda$')\n",
    "plt.ylabel('error')\n",
    "plt.legend(loc=1)\n",
    "plt.title('error vs $\\lambda$')\n"
   ]
  },
  {
   "cell_type": "markdown",
   "metadata": {},
   "source": [
    "### RR questions \n",
    "\n",
    "1) Explain to each other what is happening in these two plots   \n",
    "2) Why does the blue curve have a minimum at the smallest $\\lambda$ value? "
   ]
  },
  {
   "cell_type": "markdown",
   "metadata": {},
   "source": [
    "# Part 3: LASSO regression  (same data as Part 1)\n",
    "\n",
    "* The lasso improves over ridge by also providing a variable selection tool!\n",
    "* The lasso minimizer is $RSS + \\lambda \\sum_{j=1}^{p}\\lvert\\beta_j\\rvert$"
   ]
  },
  {
   "cell_type": "code",
   "execution_count": 32,
   "metadata": {},
   "outputs": [],
   "source": [
    "# also based on sklearn tutorials\n",
    "# what the hell is happening in this cell?\n",
    "coefs = []\n",
    "trainerror = []\n",
    "testerror = []\n",
    "\n",
    "lambdas = np.logspace(-6,6,200)\n",
    "model=linear_model.Lasso()\n",
    "\n",
    "# loop over lambda values (strength of regularization)\n",
    "for l in lambdas:\n",
    "    model.set_params(alpha=l,max_iter=1e6)\n",
    "    model.fit(train_normalized[train.columns.values[0:8]],train_normalized[train.columns.values[8]])\n",
    "    coefs.append(model.coef_)\n",
    "    trainerror.append(mean_squared_error(train_normalized[train.columns.values[8]],model.predict(\n",
    "        train_normalized[train.columns.values[0:8]])))\n",
    "    testerror.append(mean_squared_error(test_normalized[train.columns.values[8]],model.predict(\n",
    "        test_normalized[train.columns.values[0:8]])))\n",
    "\n"
   ]
  },
  {
   "cell_type": "code",
   "execution_count": 33,
   "metadata": {},
   "outputs": [
    {
     "data": {
      "text/plain": [
       "Text(0.5,1,'error vs $\\\\lambda$')"
      ]
     },
     "execution_count": 33,
     "metadata": {},
     "output_type": "execute_result"
    },
    {
     "data": {
      "image/png": "[encoded data removed]",
      "text/plain": [
       "<Figure size 720x216 with 2 Axes>"
      ]
     },
     "metadata": {
      "needs_background": "light"
     },
     "output_type": "display_data"
    }
   ],
   "source": [
    "plt.figure(figsize=(10,3))\n",
    "#plt.locator_params(nbins=5)\n",
    "plt.subplot(121)\n",
    "plt.plot(lambdas,coefs)\n",
    "plt.xscale('log')\n",
    "plt.xlabel('$\\lambda$')\n",
    "plt.ylabel('coefs')\n",
    "plt.title('RR coefs vs $\\lambda$')\n",
    "#plt.xlim(1e-4,1e0)\n",
    "\n",
    "plt.subplot(122)\n",
    "plt.plot(lambdas,trainerror,label='train error')\n",
    "plt.plot(lambdas,testerror,label='test error')\n",
    "plt.xscale('log')\n",
    "plt.xlabel('$\\lambda$')\n",
    "plt.ylabel('error')\n",
    "#plt.xlim(1e-4,1e0)\n",
    "#plt.ylim(0,0.5)\n",
    "plt.legend(loc=1)\n",
    "plt.title('error vs $\\lambda$')"
   ]
  },
  {
   "cell_type": "markdown",
   "metadata": {
    "collapsed": true
   },
   "source": [
    "### Other things to consider if you have more time \n",
    "\n",
    "* Note we did not scale the features in the MLR, try it out and verify the final error doesnt' change!\n",
    "* Make sure you undersand how to make _predictions_ with supervised learning models that are trained on scaled/normalized data\n",
    "* Plot the residuals and verify if errors are distributed normally\n",
    "* Make a parity plot including the predictions from ridge and LASSO \n",
    "* Compare errors between all three \n",
    "* Explore the effect of training/testing split \n",
    "* Look at the shrinkage/regularization situation when predicting Y2 vs Y1... \n"
   ]
  },
  {
   "cell_type": "code",
   "execution_count": null,
   "metadata": {},
   "outputs": [],
   "source": []
  }
 ],
 "metadata": {
  "anaconda-cloud": {},
  "kernelspec": {
   "display_name": "Python 3",
   "language": "python",
   "name": "python3"
  },
  "language_info": {
   "codemirror_mode": {
    "name": "ipython",
    "version": 3
   },
   "file_extension": ".py",
   "mimetype": "text/x-python",
   "name": "python",
   "nbconvert_exporter": "python",
   "pygments_lexer": "ipython3",
   "version": "3.7.0"
  }
 },
 "nbformat": 4,
 "nbformat_minor": 1
}
