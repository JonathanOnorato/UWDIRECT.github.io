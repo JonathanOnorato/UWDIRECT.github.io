{
 "cells": [
  {
   "cell_type": "markdown",
   "metadata": {},
   "source": [
    "##  Part 1 simple linear regression\n",
    "### To do\n",
    "\n",
    "* Explain w/partner each line in this notebook and execute each cell  \n",
    "* Explore relationship between quality of prediction and (size of training set / noise level)\n",
    "    * Specifically discuss how you would automate this searching\n",
    "\n",
    "### Discuss how you would implement the following calculations, with a function, as they are not available in sklearn (this is a big part of HW4!)\n",
    "\n",
    "### Missing information for assessing coefficients: \n",
    "\n",
    "* 95% CI \n",
    "* Standard Error for $\\beta_0$ and $\\beta _1$\n",
    "* P-value for test of $H_0$\n",
    "\n",
    "### Missing information for assessing the model: \n",
    "\n",
    "* RSE , RSS , $R^2$"
   ]
  },
  {
   "cell_type": "code",
   "execution_count": 1,
   "metadata": {},
   "outputs": [],
   "source": [
    "import numpy as np\n",
    "import matplotlib.pyplot as plt\n",
    "import pandas as pd \n",
    "\n",
    "from sklearn import linear_model\n",
    "%matplotlib inline"
   ]
  },
  {
   "cell_type": "code",
   "execution_count": 2,
   "metadata": {},
   "outputs": [],
   "source": [
    "#model: Y = 3X + 4\n",
    "#size of training data and scale of random noise \n",
    "pts=25 \n",
    "noisescale=.25 \n",
    "x=np.linspace(-50,50,num=pts)\n",
    "B0=4\n",
    "B1=3\n",
    "yactual=B0+B1*x\n",
    "np.random.seed(123) #for reproducible \n",
    "#add noise scaled to 25% of range to data\n",
    "yrand=yactual+noisescale*(yactual.max()-yactual.min())*np.random.normal(size=pts)"
   ]
  },
  {
   "cell_type": "code",
   "execution_count": 3,
   "metadata": {},
   "outputs": [
    {
     "data": {
      "text/plain": [
       "array([-50.        , -45.83333333, -41.66666667, -37.5       ,\n",
       "       -33.33333333, -29.16666667, -25.        , -20.83333333,\n",
       "       -16.66666667, -12.5       ,  -8.33333333,  -4.16666667,\n",
       "         0.        ,   4.16666667,   8.33333333,  12.5       ,\n",
       "        16.66666667,  20.83333333,  25.        ,  29.16666667,\n",
       "        33.33333333,  37.5       ,  41.66666667,  45.83333333,\n",
       "        50.        ])"
      ]
     },
     "execution_count": 3,
     "metadata": {},
     "output_type": "execute_result"
    }
   ],
   "source": [
    "x"
   ]
  },
  {
   "cell_type": "code",
   "execution_count": 5,
   "metadata": {},
   "outputs": [
    {
     "data": {
      "text/plain": [
       "array([-227.42229525,  -58.69909151,  -99.77661265, -221.47210354,\n",
       "       -139.3950189 ,   40.35774028, -253.00094325,  -90.66844716,\n",
       "         48.9452194 ,  -98.50553017,  -71.91646137,  -15.60317267,\n",
       "        115.85422196,  -31.41764975,   -4.29864697,    8.92365433,\n",
       "        219.4447562 ,  230.50895667,  154.30404234,  120.46397994,\n",
       "        159.30264319,  228.30490211,   58.81245987,  229.68717836,\n",
       "         59.95894992])"
      ]
     },
     "execution_count": 5,
     "metadata": {},
     "output_type": "execute_result"
    }
   ],
   "source": [
    "yrand"
   ]
  },
  {
   "cell_type": "code",
   "execution_count": 6,
   "metadata": {},
   "outputs": [
    {
     "data": {
      "text/plain": [
       "<matplotlib.collections.PathCollection at 0x227b729bbe0>"
      ]
     },
     "execution_count": 6,
     "metadata": {},
     "output_type": "execute_result"
    },
    {
     "data": {
      "image/png": "[encoded data removed]",
      "text/plain": [
       "<Figure size 432x288 with 1 Axes>"
      ]
     },
     "metadata": {},
     "output_type": "display_data"
    }
   ],
   "source": [
    "plt.plot(x,yactual,color='red',lw='3')\n",
    "plt.scatter(x,yrand)"
   ]
  },
  {
   "cell_type": "code",
   "execution_count": 16,
   "metadata": {},
   "outputs": [
    {
     "data": {
      "text/plain": [
       "array([[-50.        ],\n",
       "       [-45.83333333],\n",
       "       [-41.66666667],\n",
       "       [-37.5       ],\n",
       "       [-33.33333333],\n",
       "       [-29.16666667],\n",
       "       [-25.        ],\n",
       "       [-20.83333333],\n",
       "       [-16.66666667],\n",
       "       [-12.5       ],\n",
       "       [ -8.33333333],\n",
       "       [ -4.16666667],\n",
       "       [  0.        ],\n",
       "       [  4.16666667],\n",
       "       [  8.33333333],\n",
       "       [ 12.5       ],\n",
       "       [ 16.66666667],\n",
       "       [ 20.83333333],\n",
       "       [ 25.        ],\n",
       "       [ 29.16666667],\n",
       "       [ 33.33333333],\n",
       "       [ 37.5       ],\n",
       "       [ 41.66666667],\n",
       "       [ 45.83333333],\n",
       "       [ 50.        ]])"
      ]
     },
     "execution_count": 16,
     "metadata": {},
     "output_type": "execute_result"
    }
   ],
   "source": [
    "x.reshape(-1,1)"
   ]
  },
  {
   "cell_type": "code",
   "execution_count": 15,
   "metadata": {},
   "outputs": [
    {
     "data": {
      "text/plain": [
       "array([-50.        , -45.83333333, -41.66666667, -37.5       ,\n",
       "       -33.33333333, -29.16666667, -25.        , -20.83333333,\n",
       "       -16.66666667, -12.5       ,  -8.33333333,  -4.16666667,\n",
       "         0.        ,   4.16666667,   8.33333333,  12.5       ,\n",
       "        16.66666667,  20.83333333,  25.        ,  29.16666667,\n",
       "        33.33333333,  37.5       ,  41.66666667,  45.83333333,\n",
       "        50.        ])"
      ]
     },
     "execution_count": 15,
     "metadata": {},
     "output_type": "execute_result"
    }
   ],
   "source": [
    "x"
   ]
  },
  {
   "cell_type": "code",
   "execution_count": 17,
   "metadata": {},
   "outputs": [
    {
     "name": "stdout",
     "output_type": "stream",
     "text": [
      "B0, B1:  [14.50770926] [3.76217657]\n"
     ]
    }
   ],
   "source": [
    "#EXPLAIN IN PLAIN LANGUAGE WHAT THIS LINE IS DOING!\n",
    "regr=linear_model.LinearRegression() \n",
    "# note that x.reshape(-1,1) is required because I must strictly\n",
    "# feed regr.fit a 200x1 array , np.linspace returned a list of numbers\n",
    "regr.fit(x.reshape(-1,1),yrand.reshape(-1,1))\n",
    "print('B0, B1: ',regr.intercept_, regr.coef_[0])"
   ]
  },
  {
   "cell_type": "code",
   "execution_count": 19,
   "metadata": {},
   "outputs": [
    {
     "data": {
      "text/plain": [
       "<matplotlib.legend.Legend at 0x227b83296d8>"
      ]
     },
     "execution_count": 19,
     "metadata": {},
     "output_type": "execute_result"
    },
    {
     "data": {
      "image/png": "[encoded data removed]",
      "text/plain": [
       "<Figure size 432x288 with 1 Axes>"
      ]
     },
     "metadata": {},
     "output_type": "display_data"
    }
   ],
   "source": [
    "plt.plot(x,yactual,color='red',lw='3',label='actual')\n",
    "plt.plot(x,regr.predict(x.reshape(-1,1)),ls='--',label='fit')\n",
    "plt.legend(loc='lower right')"
   ]
  },
  {
   "cell_type": "markdown",
   "metadata": {
    "collapsed": true
   },
   "source": [
    "### Take a few mins and see if you can \n",
    "\n",
    "Useful plots to make after simple linear regression: \n",
    "\n",
    "1) X vs Y (showing both training data, fit model, and result of predictionsw on test data (if you have any) \n",
    "\n",
    "2) Y vs Y(hat):  this is called a *parity plot* \n",
    "\n",
    "3) X v s *residual* (Y - Y(hat)) "
   ]
  },
  {
   "cell_type": "code",
   "execution_count": 24,
   "metadata": {},
   "outputs": [
    {
     "data": {
      "text/plain": [
       "<matplotlib.collections.PathCollection at 0x227b853e5c0>"
      ]
     },
     "execution_count": 24,
     "metadata": {},
     "output_type": "execute_result"
    },
    {
     "data": {
      "image/png": "[encoded data removed]",
      "text/plain": [
       "<Figure size 360x216 with 1 Axes>"
      ]
     },
     "metadata": {},
     "output_type": "display_data"
    }
   ],
   "source": [
    "fig, ax = plt.subplots(figsize=(5, 3))\n",
    "ax.scatter(x, yactual, label='actual')\n",
    "ax.scatter(x, yrand, label='measured')\n",
    "ax.scatter(x, regr.predict(x.reshape(-1,1)), label='predicted')"
   ]
  },
  {
   "cell_type": "code",
   "execution_count": 34,
   "metadata": {},
   "outputs": [
    {
     "data": {
      "text/plain": [
       "<matplotlib.collections.PathCollection at 0x227b88a1908>"
      ]
     },
     "execution_count": 34,
     "metadata": {},
     "output_type": "execute_result"
    },
    {
     "data": {
      "image/png": "[encoded data removed]",
      "text/plain": [
       "<Figure size 360x216 with 1 Axes>"
      ]
     },
     "metadata": {},
     "output_type": "display_data"
    }
   ],
   "source": [
    "fig, ax = plt.subplots(figsize=(5, 3))\n",
    "ax.scatter(yrand, regr.predict(x.reshape(-1,1)), label='parity')"
   ]
  },
  {
   "cell_type": "code",
   "execution_count": 37,
   "metadata": {},
   "outputs": [
    {
     "data": {
      "text/plain": [
       "[<matplotlib.lines.Line2D at 0x227b8554b00>]"
      ]
     },
     "execution_count": 37,
     "metadata": {},
     "output_type": "execute_result"
    },
    {
     "data": {
      "image/png": "[encoded data removed]",
      "text/plain": [
       "<Figure size 360x216 with 1 Axes>"
      ]
     },
     "metadata": {},
     "output_type": "display_data"
    }
   ],
   "source": [
    "fig, ax = plt.subplots(figsize=(5, 3))\n",
    "ax.scatter(x, regr.predict(x.reshape(-1,1)) - yrand)\n",
    "ax.plot(x, 0*x)"
   ]
  },
  {
   "cell_type": "markdown",
   "metadata": {},
   "source": [
    "### Multiple linear regression\n",
    "\n",
    "In this 2nd example, we generate model based on the idea that the $PCE$ of a candidate organic photovoltaic can be modeled as a contribution of the molecule's $mass$, $VOC$ and $E_{LUMO}$ values:  $PCE = \\beta_0 + \\beta_1*mass + \\beta_2*VOC + \\beta_3 * E_{LUMO}$\n",
    "\n",
    "The extension from simple to multiple linear regression is trivial - can you figure it out with your partner or at your table?!"
   ]
  },
  {
   "cell_type": "code",
   "execution_count": 38,
   "metadata": {},
   "outputs": [],
   "source": [
    "harvard=pd.read_csv('https://raw.githubusercontent.com/UWDIRECT/UWDIRECT.github.io/master/Wi18_content/DSMCER/HCEPD_100K.csv')\n",
    "# you need to complete these lines \n",
    "# (but first you might refresh yourself on what is contained in harvard\n",
    "\n",
    "# keep the same variable names - \n",
    "# regr2=STUFF\n",
    "# regr2.fit(STUFF) \n",
    "# once your model is trained, can you make a parity plot: plot actual PCE data on x vs\n",
    "# trained PCE data on y. Also plot the line of parity so your eye can follow how good\n",
    "# your predictions are doing...."
   ]
  },
  {
   "cell_type": "code",
   "execution_count": null,
   "metadata": {
    "collapsed": true
   },
   "outputs": [],
   "source": [
    "#model: Y = 3X + 4\n",
    "#size of training data and scale of random noise \n"
   ]
  },
  {
   "cell_type": "code",
   "execution_count": 44,
   "metadata": {},
   "outputs": [],
   "source": [
    "def regression(points=25, x_range=[-50,50], coefs=[4, 3], noisescale=0.25):\n",
    "    pts=25 \n",
    "    noisescale=.25 \n",
    "    x=np.linspace(x_range[0],x_range[1],num=points)\n",
    "    B0=coefs[0]\n",
    "    B1=coefs[1]\n",
    "    yactual=B0+B1*x\n",
    "    #np.random.seed(123) #for reproducible \n",
    "    #add noise scaled to 25% of range to data\n",
    "    yrand=yactual+noisescale*(yactual.max()-yactual.min())*np.random.normal(size=points)\n",
    "\n",
    "    #EXPLAIN IN PLAIN LANGUAGE WHAT THIS LINE IS DOING!\n",
    "    regr=linear_model.LinearRegression() \n",
    "    # note that x.reshape(-1,1) is required because I must strictly\n",
    "    # feed regr.fit a 200x1 array , np.linspace returned a list of numbers\n",
    "    regr.fit(x.reshape(-1,1),yrand.reshape(-1,1))\n",
    "    return regr.intercept_[0], regr.coef_[0][0]"
   ]
  },
  {
   "cell_type": "code",
   "execution_count": 45,
   "metadata": {},
   "outputs": [],
   "source": [
    "repeats = 1000\n",
    "B0 = [0]*repeats\n",
    "B1 = [0]*repeats\n",
    "for i in range(repeats):\n",
    "    B0[i], B1[i] = regression(points=25, noisescale=0.25)"
   ]
  },
  {
   "cell_type": "code",
   "execution_count": 57,
   "metadata": {},
   "outputs": [
    {
     "name": "stdout",
     "output_type": "stream",
     "text": [
      "95% CI Intercept: -19.17 - 28.09\n",
      "95% CI Intercept: 2.22 - 3.73\n"
     ]
    }
   ],
   "source": [
    "repeats = 1000\n",
    "noisescale = 0.25\n",
    "B0 = [0]*repeats\n",
    "B1 = [0]*repeats\n",
    "for i in range(repeats):\n",
    "    B0[i], B1[i] = regression(points=25, noisescale=noisescale)\n",
    "print('95% CI Intercept: {} - {}'.format(np.round(np.percentile(np.array(B0), 5), 2), np.round(np.percentile(np.array(B0), 95), 2)))\n",
    "print('95% CI Intercept: {} - {}'.format(np.round(np.percentile(np.array(B1), 5), 2), np.round(np.percentile(np.array(B1), 95), 2)))"
   ]
  },
  {
   "cell_type": "code",
   "execution_count": 84,
   "metadata": {},
   "outputs": [],
   "source": [
    "def regression_cis(points, noisescale, repeats):\n",
    "    B0 = [0]*repeats\n",
    "    B1 = [0]*repeats\n",
    "    for i in range(repeats):\n",
    "        B0[i], B1[i] = regression(points=points, noisescale=noisescale)\n",
    "    print('95% CI Intercept: {} - {}'.format(np.round(np.percentile(np.array(B0), 5), 2), np.round(np.percentile(np.array(B0), 95), 2)))\n",
    "    print('95% CI Slope: {} - {}'.format(np.round(np.percentile(np.array(B1), 5), 2), np.round(np.percentile(np.array(B1), 95), 2)))\n",
    "    return [np.percentile(np.array(B0), 5), np.percentile(np.array(B0), 95)], [np.percentile(np.array(B1), 5), np.percentile(np.array(B1), 95)]"
   ]
  },
  {
   "cell_type": "code",
   "execution_count": 85,
   "metadata": {},
   "outputs": [
    {
     "name": "stdout",
     "output_type": "stream",
     "text": [
      "95% CI Intercept: -53.26 - 58.09\n",
      "95% CI Slope: 1.51 - 4.56\n",
      "95% CI Intercept: -35.92 - 41.17\n",
      "95% CI Slope: 1.76 - 4.24\n",
      "95% CI Intercept: -8.53 - 16.75\n",
      "95% CI Slope: 2.57 - 3.44\n",
      "95% CI Intercept: 0.05 - 7.91\n",
      "95% CI Slope: 2.87 - 3.13\n",
      "95% CI Intercept: 2.73 - 5.3\n",
      "95% CI Slope: 2.96 - 3.04\n",
      "95% CI Intercept: 3.61 - 4.35\n",
      "95% CI Slope: 2.99 - 3.01\n"
     ]
    },
    {
     "data": {
      "text/plain": [
       "[]"
      ]
     },
     "execution_count": 85,
     "metadata": {},
     "output_type": "execute_result"
    },
    {
     "data": {
      "image/png": "[encoded data removed]",
      "text/plain": [
       "<Figure size 360x216 with 1 Axes>"
      ]
     },
     "metadata": {},
     "output_type": "display_data"
    }
   ],
   "source": [
    "B0cilo = []\n",
    "B0cihi = []\n",
    "B1cilo = []\n",
    "B1cihi = []\n",
    "points = [5, 10, 100, 1000, 10000, 100000]\n",
    "for i in points:\n",
    "    B0ci0, B1ci0 = regression_cis(i, noisescale, 1000)\n",
    "    B0cilo.append(B0ci0[0])\n",
    "    B0cihi.append(B0ci0[1])\n",
    "    B1cilo.append(B1ci0[0])\n",
    "    B1cihi.append(B1ci0[1])\n",
    "\n",
    "fig, ax = plt.subplots(figsize=(5, 3))\n",
    "ax.scatter(points, B0cilo, color='k')\n",
    "ax.scatter(points, B0cihi, color='k')\n",
    "plt.semilogx()"
   ]
  },
  {
   "cell_type": "code",
   "execution_count": 86,
   "metadata": {},
   "outputs": [
    {
     "data": {
      "text/plain": [
       "[]"
      ]
     },
     "execution_count": 86,
     "metadata": {},
     "output_type": "execute_result"
    },
    {
     "data": {
      "image/png": "[encoded data removed]",
      "text/plain": [
       "<Figure size 360x216 with 1 Axes>"
      ]
     },
     "metadata": {},
     "output_type": "display_data"
    }
   ],
   "source": [
    "fig, ax = plt.subplots(figsize=(5, 3))\n",
    "ax.scatter(points, B1cilo, color='k')\n",
    "ax.scatter(points, B1cihi, color='k')\n",
    "plt.semilogx()"
   ]
  },
  {
   "cell_type": "code",
   "execution_count": 97,
   "metadata": {},
   "outputs": [
    {
     "name": "stdout",
     "output_type": "stream",
     "text": [
      "95% CI Intercept: 0.16 - 7.7\n",
      "95% CI Slope: 2.86 - 3.14\n",
      "95% CI Intercept: 0.04 - 7.99\n",
      "95% CI Slope: 2.87 - 3.12\n",
      "95% CI Intercept: 0.08 - 7.97\n",
      "95% CI Slope: 2.86 - 3.13\n",
      "95% CI Intercept: 0.41 - 7.87\n",
      "95% CI Slope: 2.86 - 3.13\n",
      "95% CI Intercept: 0.02 - 8.15\n",
      "95% CI Slope: 2.87 - 3.13\n",
      "95% CI Intercept: 0.11 - 7.97\n",
      "95% CI Slope: 2.87 - 3.13\n",
      "95% CI Intercept: 0.15 - 8.02\n",
      "95% CI Slope: 2.87 - 3.14\n",
      "95% CI Intercept: -0.03 - 8.02\n",
      "95% CI Slope: 2.87 - 3.13\n",
      "95% CI Intercept: 0.02 - 7.9\n",
      "95% CI Slope: 2.86 - 3.14\n",
      "95% CI Intercept: -0.01 - 8.08\n",
      "95% CI Slope: 2.87 - 3.13\n",
      "95% CI Intercept: 0.27 - 7.94\n",
      "95% CI Slope: 2.86 - 3.13\n",
      "95% CI Intercept: 0.03 - 7.95\n",
      "95% CI Slope: 2.87 - 3.14\n",
      "95% CI Intercept: 0.08 - 7.83\n",
      "95% CI Slope: 2.88 - 3.14\n",
      "95% CI Intercept: 0.26 - 7.77\n",
      "95% CI Slope: 2.86 - 3.14\n"
     ]
    },
    {
     "data": {
      "text/plain": [
       "<matplotlib.collections.PathCollection at 0x227b9271390>"
      ]
     },
     "execution_count": 97,
     "metadata": {},
     "output_type": "execute_result"
    },
    {
     "data": {
      "image/png": "[encoded data removed]",
      "text/plain": [
       "<Figure size 360x216 with 1 Axes>"
      ]
     },
     "metadata": {},
     "output_type": "display_data"
    }
   ],
   "source": [
    "B0cilo = []\n",
    "B0cihi = []\n",
    "B1cilo = []\n",
    "B1cihi = []\n",
    "points = [0.01, 0.05, 0.1, 0.25, 0.5, 1, 2, 5, 10, 20, 100, 200, 500, 1000]\n",
    "for noise in points:\n",
    "    B0ci0, B1ci0 = regression_cis(1000, noise, 1000)\n",
    "    B0cilo.append(B0ci0[0])\n",
    "    B0cihi.append(B0ci0[1])\n",
    "    B1cilo.append(B1ci0[0])\n",
    "    B1cihi.append(B1ci0[1])\n",
    "\n",
    "fig, ax = plt.subplots(figsize=(5, 3))\n",
    "ax.scatter(points, B0cilo, color='k')\n",
    "ax.scatter(points, B0cihi, color='k')"
   ]
  },
  {
   "cell_type": "code",
   "execution_count": 98,
   "metadata": {},
   "outputs": [
    {
     "data": {
      "text/plain": [
       "<matplotlib.collections.PathCollection at 0x227b95a0a20>"
      ]
     },
     "execution_count": 98,
     "metadata": {},
     "output_type": "execute_result"
    },
    {
     "data": {
      "image/png": "[encoded data removed]",
      "text/plain": [
       "<Figure size 360x216 with 1 Axes>"
      ]
     },
     "metadata": {},
     "output_type": "display_data"
    }
   ],
   "source": [
    "fig, ax = plt.subplots(figsize=(5, 3))\n",
    "ax.scatter(points, B1cilo, color='k')\n",
    "ax.scatter(points, B1cihi, color='k')"
   ]
  },
  {
   "cell_type": "code",
   "execution_count": null,
   "metadata": {},
   "outputs": [],
   "source": []
  }
 ],
 "metadata": {
  "anaconda-cloud": {},
  "kernelspec": {
   "display_name": "Python 3",
   "language": "python",
   "name": "python3"
  },
  "language_info": {
   "codemirror_mode": {
    "name": "ipython",
    "version": 3
   },
   "file_extension": ".py",
   "mimetype": "text/x-python",
   "name": "python",
   "nbconvert_exporter": "python",
   "pygments_lexer": "ipython3",
   "version": "3.7.0"
  }
 },
 "nbformat": 4,
 "nbformat_minor": 1
}
