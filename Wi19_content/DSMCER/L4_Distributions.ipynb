{
 "cells": [
  {
   "cell_type": "markdown",
   "metadata": {},
   "source": [
    "### Distributions, PDFs/PMFs, CDF and sampling from distributions\n",
    "\n",
    "Today we are going to explore statistical distributions, create figures of their PDFs and PMFs, calculate the CDFs and write some code to sample from the distributions.\n",
    "\n",
    "But first, imports..."
   ]
  },
  {
   "cell_type": "code",
   "execution_count": null,
   "metadata": {},
   "outputs": [],
   "source": [
    "import math\n",
    "\n",
    "import matplotlib.pyplot as plt\n",
    "import numpy as np\n",
    "import pandas as pd\n",
    "import scipy \n",
    "\n",
    "%matplotlib inline"
   ]
  },
  {
   "cell_type": "markdown",
   "metadata": {},
   "source": [
    "#### Let's start with the binomial distribution\n",
    "\n",
    "Use LaTeX to write the equation for the PMF in the cell below.  Use the form with *N* and *p*.  [Here](https://www.sharelatex.com/learn/Mathematical_expressions) is a guide to writing mathematical expressions in LaTeX."
   ]
  },
  {
   "cell_type": "markdown",
   "metadata": {},
   "source": []
  },
  {
   "cell_type": "markdown",
   "metadata": {},
   "source": [
    "#### Create a function that can be used to compute P(x).\n",
    "\n",
    "Your function will need three arguments.  Hint: look at ``math.factorial`` for computing factorials and ``math.pow`` for exponents."
   ]
  },
  {
   "cell_type": "code",
   "execution_count": null,
   "metadata": {},
   "outputs": [],
   "source": []
  },
  {
   "cell_type": "markdown",
   "metadata": {},
   "source": [
    "#### Call your function on the integers from 0 to _N_\n",
    "\n",
    "Why can't it be bigger than _N_?\n",
    "\n",
    "Hint: Look at ``np.arange`` for generating linearly spaced integers.  List comprehensions are you friend here.  For loops also work.  A list comprehension is like a compressed for loop.  Use either construct as you prefer, but the list comprehension might look like this:\n",
    "```\n",
    "[binomial_P(20, .5, n) for n in np.arange(0, 21)]\n",
    "```"
   ]
  },
  {
   "cell_type": "code",
   "execution_count": null,
   "metadata": {},
   "outputs": [],
   "source": []
  },
  {
   "cell_type": "code",
   "execution_count": null,
   "metadata": {},
   "outputs": [],
   "source": []
  },
  {
   "cell_type": "code",
   "execution_count": null,
   "metadata": {},
   "outputs": [],
   "source": []
  },
  {
   "cell_type": "markdown",
   "metadata": {},
   "source": [
    "#### Now, make a figure of _x_ vs _P(x)_\n",
    "\n",
    "Try to reproduce this figure:\n",
    "<img src=\"https://upload.wikimedia.org/wikipedia/commons/7/75/Binomial_distribution_pmf.svg\"/>"
   ]
  },
  {
   "cell_type": "code",
   "execution_count": null,
   "metadata": {},
   "outputs": [],
   "source": []
  },
  {
   "cell_type": "code",
   "execution_count": null,
   "metadata": {},
   "outputs": [],
   "source": []
  },
  {
   "cell_type": "code",
   "execution_count": null,
   "metadata": {},
   "outputs": [],
   "source": []
  },
  {
   "cell_type": "markdown",
   "metadata": {},
   "source": [
    "#### Moving on, do the same thing for the Poisson distribution\n",
    "\n",
    "Write the LaTeX in the cell below:"
   ]
  },
  {
   "cell_type": "markdown",
   "metadata": {},
   "source": []
  },
  {
   "cell_type": "markdown",
   "metadata": {},
   "source": [
    "#### Create a function for the _P(X)_\n",
    "\n",
    "Include arguments for $\\lambda$ and _k_."
   ]
  },
  {
   "cell_type": "code",
   "execution_count": null,
   "metadata": {},
   "outputs": [],
   "source": []
  },
  {
   "cell_type": "markdown",
   "metadata": {},
   "source": [
    "#### Call your function on integers linearly spaced"
   ]
  },
  {
   "cell_type": "code",
   "execution_count": null,
   "metadata": {},
   "outputs": [],
   "source": []
  },
  {
   "cell_type": "markdown",
   "metadata": {},
   "source": [
    "#### Make a figure\n",
    "\n",
    "Try to reproduce this figure:\n",
    "<img src=\"https://upload.wikimedia.org/wikipedia/commons/thumb/1/16/Poisson_pmf.svg/650px-Poisson_pmf.svg.png\"/>\n",
    "\n",
    "What is wrong with this figure, BTW?"
   ]
  },
  {
   "cell_type": "markdown",
   "metadata": {},
   "source": []
  },
  {
   "cell_type": "code",
   "execution_count": null,
   "metadata": {},
   "outputs": [],
   "source": []
  },
  {
   "cell_type": "code",
   "execution_count": null,
   "metadata": {},
   "outputs": [],
   "source": []
  },
  {
   "cell_type": "code",
   "execution_count": null,
   "metadata": {},
   "outputs": [],
   "source": []
  },
  {
   "cell_type": "markdown",
   "metadata": {},
   "source": [
    "#### Enough with the discrete distributions, let's try a continuous one:  The normal distribution.\n",
    "\n",
    "Begin by writing the P(x) equation in LaTeX in the cell below."
   ]
  },
  {
   "cell_type": "markdown",
   "metadata": {},
   "source": []
  },
  {
   "cell_type": "markdown",
   "metadata": {},
   "source": [
    "#### Write a function that implements P(x)"
   ]
  },
  {
   "cell_type": "code",
   "execution_count": null,
   "metadata": {},
   "outputs": [],
   "source": []
  },
  {
   "cell_type": "markdown",
   "metadata": {},
   "source": [
    "#### Call your function on a list of numbers\n",
    "\n",
    "Hint: look at ``np.linspace``."
   ]
  },
  {
   "cell_type": "code",
   "execution_count": null,
   "metadata": {},
   "outputs": [],
   "source": []
  },
  {
   "cell_type": "markdown",
   "metadata": {},
   "source": [
    "#### Reproduce this figure:\n",
    "\n",
    "<img src=\"https://upload.wikimedia.org/wikipedia/commons/thumb/7/74/Normal_Distribution_PDF.svg/700px-Normal_Distribution_PDF.svg.png\"/>"
   ]
  },
  {
   "cell_type": "code",
   "execution_count": null,
   "metadata": {},
   "outputs": [],
   "source": []
  },
  {
   "cell_type": "code",
   "execution_count": null,
   "metadata": {},
   "outputs": [],
   "source": []
  },
  {
   "cell_type": "markdown",
   "metadata": {},
   "source": [
    "### OK, now to CDFs\n",
    "\n",
    "Let's look at the CDF for an emperical distribution.  Recall this from our descriptive statistics notebook.\n"
   ]
  },
  {
   "cell_type": "code",
   "execution_count": null,
   "metadata": {},
   "outputs": [],
   "source": [
    "d1 = np.random.normal(loc=-6.4, scale=1.2, size=40000)\n",
    "d2 = np.random.normal(loc=4, scale=10, size=16000)\n",
    "d3 = np.random.normal(loc=22, scale=8, size=72000)\n",
    "population = np.concatenate([d1, d2, d3])\n",
    "pop = pd.DataFrame(data=population, columns=['population'])\n",
    "pop.head()"
   ]
  },
  {
   "cell_type": "markdown",
   "metadata": {},
   "source": [
    "#### First, plot a histogram of the data"
   ]
  },
  {
   "cell_type": "code",
   "execution_count": null,
   "metadata": {},
   "outputs": [],
   "source": []
  },
  {
   "cell_type": "markdown",
   "metadata": {},
   "source": [
    "#### Now let's make a function to interpolate our histogram\n",
    "\n",
    "If you aren't sure what interpolation is, read [this](https://en.wikipedia.org/wiki/Interpolation).\n",
    "\n",
    "Call your function ``inverse_CDF`` and have it take two arguments:\n",
    "* ``data`` which is a list of values that are the emperical distribution you want to construct the CDF from\n",
    "* ``bins`` which is the number of bins to use in the histogram used to interpolate the CDF\n",
    "\n",
    "The function should use ``np.histogram`` to create data objects (not plots) that contain binned data.  Hint: your call will look something like:\n",
    "```\n",
    "    hist_data, bin_edges = np.histogram(data, bins=bins, density=True)\n",
    "```\n",
    "Why are we using the ``density=True`` parameter?\n",
    "\n",
    "Remember that the CDF is the cumulative sum of the probabilty density function.  This means we can create new list with an entry for each bin and use ``np.cumsum`` to sum across a list that is the histogram density * width of a bin.  \n",
    "Here is what I came up with:\n",
    "```\n",
    "    cdf_bins = np.cumsum(hist_data * np.diff(bin_edges))\n",
    "    cdf_bins = np.insert(cdf_bins, 0, 0)\n",
    "```\n",
    "Two questions for you:\n",
    "* ``np.diff`` computes the bin width.  Why?\n",
    "* Why do I have the ``np.insert``?\n",
    "\n"
   ]
  },
  {
   "cell_type": "markdown",
   "metadata": {},
   "source": []
  },
  {
   "cell_type": "markdown",
   "metadata": {},
   "source": [
    "\n",
    "``scipy`` has a nice interpolation family of functions:\n",
    "```\n",
    "import scipy.interpolate\n",
    "\n",
    "inv_cdf = scipy.interpolate.interp1d(cdf_bins, bin_edges)\n",
    "```\n",
    "Google that for more information.  Hint: look at the function ``scipy.interpolate.interp1d``.  Make sure you have the order of the arguments `cdf_bins` and `bin_edges` right.  One way gives you the CDF.  The other way gives you the inverse CDF.  Have your function return the CDF and the inverse CDF.  E.g.\n",
    "```\n",
    "return [cdf, inv_cdf]\n",
    "```\n",
    "Note that the ``scipy.interpolate.interp1d`` interface returns something like a function that you can call and pass it a list of values.  e.g. ``inv_cdf([0.1, 0.2, 0.3])``\n",
    "\n",
    "#### Use the following cells to build your function"
   ]
  },
  {
   "cell_type": "code",
   "execution_count": null,
   "metadata": {},
   "outputs": [],
   "source": []
  },
  {
   "cell_type": "code",
   "execution_count": null,
   "metadata": {},
   "outputs": [],
   "source": []
  },
  {
   "cell_type": "code",
   "execution_count": null,
   "metadata": {},
   "outputs": [],
   "source": []
  },
  {
   "cell_type": "markdown",
   "metadata": {},
   "source": [
    "If you did it right, the cell below should use your function to create interpolations of the CDF and the inverse CDF."
   ]
  },
  {
   "cell_type": "code",
   "execution_count": null,
   "metadata": {},
   "outputs": [],
   "source": [
    "[cdf, inv_cdf] = inverse_CDF(population, 100)"
   ]
  },
  {
   "cell_type": "markdown",
   "metadata": {},
   "source": [
    "#### Now, plot the CDF using the next two cells\n",
    "\n",
    "You can modify them if you need too, but they should give you a place to start."
   ]
  },
  {
   "cell_type": "code",
   "execution_count": null,
   "metadata": {},
   "outputs": [],
   "source": []
  },
  {
   "cell_type": "code",
   "execution_count": null,
   "metadata": {},
   "outputs": [],
   "source": []
  },
  {
   "cell_type": "markdown",
   "metadata": {},
   "source": [
    "#### Now, plot the inverse CDF using the next two cells\n",
    "\n",
    "You can modify them if you need too, but they should give you a place to start."
   ]
  },
  {
   "cell_type": "code",
   "execution_count": null,
   "metadata": {},
   "outputs": [],
   "source": []
  },
  {
   "cell_type": "code",
   "execution_count": null,
   "metadata": {},
   "outputs": [],
   "source": []
  },
  {
   "cell_type": "markdown",
   "metadata": {},
   "source": [
    "#### Cool!  Now you have taken your empirical distribution, computed a CDF and the inverse CDF.  Now you can sample from your inverse CDF to generate values from our empirical distribution.\n",
    "\n",
    "Let's do that with ``np.random.rand``.  Why are we using this random function?  What is special about how it works that makes it useful with the inverse CDF?\n"
   ]
  },
  {
   "cell_type": "markdown",
   "metadata": {},
   "source": []
  },
  {
   "cell_type": "markdown",
   "metadata": {},
   "source": [
    "OK, let's put this together with something like:\n",
    "```\n",
    "sample = inv_cdf(np.random.rand(1000))\n",
    "```"
   ]
  },
  {
   "cell_type": "code",
   "execution_count": null,
   "metadata": {},
   "outputs": [],
   "source": []
  },
  {
   "cell_type": "markdown",
   "metadata": {},
   "source": [
    "Now make a histogram of sample and set the bins to 100.  How does it look?  What happens if you increase the argument to ``np.random.rand``?"
   ]
  },
  {
   "cell_type": "code",
   "execution_count": null,
   "metadata": {},
   "outputs": [],
   "source": []
  },
  {
   "cell_type": "code",
   "execution_count": null,
   "metadata": {},
   "outputs": [],
   "source": []
  },
  {
   "cell_type": "code",
   "execution_count": null,
   "metadata": {},
   "outputs": [],
   "source": []
  },
  {
   "cell_type": "code",
   "execution_count": null,
   "metadata": {},
   "outputs": [],
   "source": []
  },
  {
   "cell_type": "markdown",
   "metadata": {
    "collapsed": true
   },
   "source": [
    "In practice, you will use pre-existing tools for sampling from disitributions that are typical.  To see the complete set available in scipy, look [here](https://docs.scipy.org/doc/scipy/reference/stats.html)."
   ]
  },
  {
   "cell_type": "markdown",
   "metadata": {},
   "source": [
    "### That's it for today!  "
   ]
  }
 ],
 "metadata": {
  "kernelspec": {
   "display_name": "Python 3",
   "language": "python",
   "name": "python3"
  },
  "language_info": {
   "codemirror_mode": {
    "name": "ipython",
    "version": 3
   },
   "file_extension": ".py",
   "mimetype": "text/x-python",
   "name": "python",
   "nbconvert_exporter": "python",
   "pygments_lexer": "ipython3",
   "version": "3.7.0"
  }
 },
 "nbformat": 4,
 "nbformat_minor": 1
}
