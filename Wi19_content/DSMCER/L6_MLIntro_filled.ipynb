{
 "cells": [
  {
   "cell_type": "code",
   "execution_count": 1,
   "metadata": {},
   "outputs": [],
   "source": [
    "import numpy as np\n",
    "import matplotlib.pyplot as plt \n",
    "import pandas as pd \n",
    "%matplotlib inline\n",
    "# this is a new library you haven't seen before, what do you think it does? \n",
    "from sklearn.neighbors import KNeighborsClassifier\n",
    "from sklearn.model_selection import train_test_split"
   ]
  },
  {
   "cell_type": "markdown",
   "metadata": {},
   "source": [
    "<img src=\"http://www.nature.com/article-assets/npg/srep/2015/150825/srep13285/images/w926/srep13285-f4.jpg\" width=\"300\" height=\"300\" />\n",
    "\n",
    "From this article in [Scientific Reports](http://www.nature.com/articles/srep13285)"
   ]
  },
  {
   "cell_type": "markdown",
   "metadata": {},
   "source": [
    "#### Read in the data\n",
    "* elemental data: [https://raw.githubusercontent.com/UWDIRECT/UWDIRECT.github.io/master/Wi18_content/DSMCER/atomsradii.csv](https://raw.githubusercontent.com/UWDIRECT/UWDIRECT.github.io/master/Wi18_content/DSMCER/atomsradii.csv)\n",
    "* testing data: [https://raw.githubusercontent.com/UWDIRECT/UWDIRECT.github.io/master/Wi18_content/DSMCER/testing.csv](https://raw.githubusercontent.com/UWDIRECT/UWDIRECT.github.io/master/Wi18_content/DSMCER/testing.csv)"
   ]
  },
  {
   "cell_type": "code",
   "execution_count": 2,
   "metadata": {},
   "outputs": [],
   "source": [
    "d_train = pd.read_csv('https://raw.githubusercontent.com/UWDIRECT/UWDIRECT.github.io/master/Wi18_content/DSMCER/atomsradii.csv')\n",
    "d_test = pd.read_csv('https://raw.githubusercontent.com/UWDIRECT/UWDIRECT.github.io/master/Wi18_content/DSMCER/testing.csv')"
   ]
  },
  {
   "cell_type": "code",
   "execution_count": 5,
   "metadata": {},
   "outputs": [
    {
     "data": {
      "text/html": [
       "<div>\n",
       "<style scoped>\n",
       "    .dataframe tbody tr th:only-of-type {\n",
       "        vertical-align: middle;\n",
       "    }\n",
       "\n",
       "    .dataframe tbody tr th {\n",
       "        vertical-align: top;\n",
       "    }\n",
       "\n",
       "    .dataframe thead th {\n",
       "        text-align: right;\n",
       "    }\n",
       "</style>\n",
       "<table border=\"1\" class=\"dataframe\">\n",
       "  <thead>\n",
       "    <tr style=\"text-align: right;\">\n",
       "      <th></th>\n",
       "      <th>rWC</th>\n",
       "      <th>rCh</th>\n",
       "      <th>Atom</th>\n",
       "      <th>Type</th>\n",
       "    </tr>\n",
       "  </thead>\n",
       "  <tbody>\n",
       "    <tr>\n",
       "      <th>0</th>\n",
       "      <td>0.51</td>\n",
       "      <td>1.12</td>\n",
       "      <td>X1</td>\n",
       "      <td>Alk</td>\n",
       "    </tr>\n",
       "    <tr>\n",
       "      <th>1</th>\n",
       "      <td>0.37</td>\n",
       "      <td>0.77</td>\n",
       "      <td>X2</td>\n",
       "      <td>TM</td>\n",
       "    </tr>\n",
       "    <tr>\n",
       "      <th>2</th>\n",
       "      <td>0.62</td>\n",
       "      <td>0.35</td>\n",
       "      <td>X3</td>\n",
       "      <td>PT</td>\n",
       "    </tr>\n",
       "    <tr>\n",
       "      <th>3</th>\n",
       "      <td>0.62</td>\n",
       "      <td>0.62</td>\n",
       "      <td>X4</td>\n",
       "      <td>TM</td>\n",
       "    </tr>\n",
       "    <tr>\n",
       "      <th>4</th>\n",
       "      <td>0.62</td>\n",
       "      <td>0.93</td>\n",
       "      <td>X5</td>\n",
       "      <td>Alk</td>\n",
       "    </tr>\n",
       "  </tbody>\n",
       "</table>\n",
       "</div>"
      ],
      "text/plain": [
       "    rWC   rCh Atom Type\n",
       "0  0.51  1.12   X1  Alk\n",
       "1  0.37  0.77   X2   TM\n",
       "2  0.62  0.35   X3   PT\n",
       "3  0.62  0.62   X4   TM\n",
       "4  0.62  0.93   X5  Alk"
      ]
     },
     "execution_count": 5,
     "metadata": {},
     "output_type": "execute_result"
    }
   ],
   "source": [
    "d_test"
   ]
  },
  {
   "cell_type": "markdown",
   "metadata": {},
   "source": [
    "Take 1-2 min and look @ the data in elements using pandas and Python you and your partner decide what to do.  E.g. you could recreate the above plot with plt.scatter(elements.rWC,elements.rCh)"
   ]
  },
  {
   "cell_type": "code",
   "execution_count": 6,
   "metadata": {},
   "outputs": [
    {
     "data": {
      "text/plain": [
       "(0, 1.5)"
      ]
     },
     "execution_count": 6,
     "metadata": {},
     "output_type": "execute_result"
    },
    {
     "data": {
      "image/png": "[encoded data removed]",
      "text/plain": [
       "<Figure size 360x360 with 1 Axes>"
      ]
     },
     "metadata": {
      "needs_background": "light"
     },
     "output_type": "display_data"
    }
   ],
   "source": [
    "fig, ax = plt.subplots(figsize=(5, 5))\n",
    "colors = ['b', 'r', 'k']\n",
    "shapes = ['s', '^', 'o']\n",
    "\n",
    "for typ, color, shape in zip(d_train.Type.unique(), colors, shapes):\n",
    "    ax.scatter(d_train[d_train.Type==typ].rWC, d_train[d_train.Type==typ].rCh, s=200, marker=shape, color=color)\n",
    "    \n",
    "ax.set_xlim([0, 1.5])\n",
    "ax.set_ylim([0, 1.5])"
   ]
  },
  {
   "cell_type": "markdown",
   "metadata": {},
   "source": [
    "#### Now, let's make a new classifier object\n",
    "\n",
    "We'll use `KNeighborsClassifier(n_neighbors=k)` where `k` is the number of neighbors to use.\n",
    "\n",
    "\n",
    "\n",
    "Then 'train' it using the `.fit` function on the object returned by the `KNeighborsClassifier` call."
   ]
  },
  {
   "cell_type": "code",
   "execution_count": 8,
   "metadata": {},
   "outputs": [],
   "source": [
    "inputs = ['rWC', 'rCh']\n",
    "X_train = d_train[inputs]\n",
    "y_train = d_train['Type']\n",
    "X_test = d_test[inputs]\n",
    "y_test = d_test['Type']\n",
    "#X_train, X_test, y_train, y_test = train_test_split(X, y, test_size=0.5)"
   ]
  },
  {
   "cell_type": "code",
   "execution_count": 11,
   "metadata": {},
   "outputs": [],
   "source": [
    "KNNmodel = KNeighborsClassifier(n_neighbors=3)"
   ]
  },
  {
   "cell_type": "code",
   "execution_count": 13,
   "metadata": {},
   "outputs": [
    {
     "data": {
      "text/plain": [
       "KNeighborsClassifier(algorithm='auto', leaf_size=30, metric='minkowski',\n",
       "           metric_params=None, n_jobs=1, n_neighbors=3, p=2,\n",
       "           weights='uniform')"
      ]
     },
     "execution_count": 13,
     "metadata": {},
     "output_type": "execute_result"
    }
   ],
   "source": [
    "KNNmodel.fit(X_train, y_train)"
   ]
  },
  {
   "cell_type": "code",
   "execution_count": 10,
   "metadata": {},
   "outputs": [
    {
     "data": {
      "text/plain": [
       "0      PT\n",
       "1      PT\n",
       "2      PT\n",
       "3      PT\n",
       "4      PT\n",
       "5      TM\n",
       "6      TM\n",
       "7     Alk\n",
       "8     Alk\n",
       "9     Alk\n",
       "10    Alk\n",
       "11    Alk\n",
       "12    Alk\n",
       "13    Alk\n",
       "14    Alk\n",
       "Name: Type, dtype: object"
      ]
     },
     "execution_count": 10,
     "metadata": {},
     "output_type": "execute_result"
    }
   ],
   "source": [
    "y_train"
   ]
  },
  {
   "cell_type": "markdown",
   "metadata": {},
   "source": [
    "### You can use the following function to see how your model is doing: \n",
    "\n",
    "`knn.predict(X) `\n",
    "\n",
    "#### As a function of K, you and your partner should determine:  \n",
    "* Testing error rate\n",
    "* Training error rate \n",
    "\n",
    "#### Need not be quantitative but spend (1/2  - 2/3 of remaining time exploring this) \n",
    "\n"
   ]
  },
  {
   "cell_type": "code",
   "execution_count": 16,
   "metadata": {},
   "outputs": [
    {
     "name": "stdout",
     "output_type": "stream",
     "text": [
      "Training Error Rate: 0.0\n",
      "Testing Error Rate: 0.4\n"
     ]
    }
   ],
   "source": [
    "rate = KNNmodel.predict(X_train) == y_train\n",
    "print('Training Error Rate:', 1 - np.mean(rate))\n",
    "\n",
    "rate = KNNmodel.predict(X_test) == y_test\n",
    "print('Testing Error Rate:', 1 - np.mean(rate))"
   ]
  },
  {
   "cell_type": "code",
   "execution_count": 15,
   "metadata": {},
   "outputs": [
    {
     "data": {
      "text/plain": [
       "0     True\n",
       "1     True\n",
       "2    False\n",
       "3    False\n",
       "4     True\n",
       "Name: Type, dtype: bool"
      ]
     },
     "execution_count": 15,
     "metadata": {},
     "output_type": "execute_result"
    }
   ],
   "source": [
    "rate"
   ]
  },
  {
   "cell_type": "markdown",
   "metadata": {},
   "source": [
    "#### With remaining time go through the cell below and look at graphs of the decision boundary vs K. \n",
    "* See if you can use the graph to determine your **testing** error rate  \n",
    "* Could you also use the graph to determine your **training** error rate? (_open ended_)"
   ]
  },
  {
   "cell_type": "code",
   "execution_count": null,
   "metadata": {},
   "outputs": [],
   "source": [
    "# additional library we will use \n",
    "from matplotlib.colors import ListedColormap\n",
    "\n",
    "# just for convenience and similarity with sklearn tutorial\n",
    "# I am going to assign our X and Y data to specific vectors\n",
    "# this is not strictly needed and you could use elements df for the whole thing!\n",
    "d1 = d_train\n",
    "elements = d1\n",
    "X=elements[['rWC','rCh']]\n",
    "\n",
    "#this is a trick to turn our strings (type of element / class) into unique \n",
    "#numbers.  Play with this in a separate cell and make sure you know wth is \n",
    "#going on!\n",
    "levels,labels=pd.factorize(elements.Type)\n",
    "y=levels\n",
    "\n",
    "#This determines levelspacing for our color map and the colors themselves\n",
    "h=0.02\n",
    "cmap_light = ListedColormap(['#FFAAAA', '#AAFFAA', '#AAAAFF'])\n",
    "cmap_bold = ListedColormap(['#FF0000', '#00FF00', '#0000FF'])\n",
    "\n",
    "# in the sklearn tutorial two different weights are compared\n",
    "# the decision between \"uniform\" and \"distance\" determines the probability\n",
    "# weight.  \"uniform\" is the version presented in class, you can change to \n",
    "# distance\n",
    "weights='uniform'\n",
    "\n",
    "# I am actually refitting the KNN here. If you had a big data set you would\n",
    "# not do this, but I want you to have the convenience of changing K or \n",
    "# weights here in this cell. Large training sets with many features can take \n",
    "# awhile for KNN training! \n",
    "\n",
    "K=5\n",
    "clf = KNeighborsClassifier(n_neighbors=K, weights=weights)\n",
    "clf.fit(X,y)\n",
    "\n",
    "# Straight from the tutorial - quickly read and see if you know what these \n",
    "# things are going - if you are < 5 min until end then you should skip this part \n",
    "\n",
    "# Plot the decision boundary. For that, we will assign a color to each\n",
    "# point in the mesh [x_min, x_max]x[y_min, y_max].\n",
    "x_min, x_max = elements.rWC.min() - 0.1  , elements.rWC.max() + 0.1\n",
    "y_min, y_max = elements.rCh.min() - 0.1  , elements.rCh.max() + 0.1  \n",
    "xx, yy = np.meshgrid(np.arange(x_min, x_max, h), \n",
    "                     np.arange(y_min, y_max, h)) \n",
    "Z = clf.predict(np.c_[xx.ravel(), yy.ravel()])\n",
    "\n",
    "# Put the result into a color plot\n",
    "Z = Z.reshape(xx.shape)\n",
    "plt.figure(figsize=(4,4));\n",
    "#plt.pcolormesh(xx, yy, Z, cmap=cmap_light)\n",
    "plt.pcolormesh(xx, yy, Z, cmap=cmap_light,vmin=0,vmax=np.max(y))\n",
    "# Plot also the training points\n",
    "# This may be the 1st time you have seen how to color points by a 3rd vector\n",
    "# In this case y ( see c=y in below statement ). This is very useful! \n",
    "plt.scatter(X.rWC, X.rCh, c=y, cmap=cmap_bold)\n",
    "\n",
    "# Set limits and lebels \n",
    "plt.xlim(xx.min(), xx.max())\n",
    "plt.ylim(yy.min(), yy.max())\n",
    "plt.xlabel('rWC')\n",
    "plt.ylabel('rCh')"
   ]
  },
  {
   "cell_type": "code",
   "execution_count": null,
   "metadata": {},
   "outputs": [],
   "source": []
  },
  {
   "cell_type": "code",
   "execution_count": null,
   "metadata": {},
   "outputs": [],
   "source": []
  },
  {
   "cell_type": "code",
   "execution_count": null,
   "metadata": {},
   "outputs": [],
   "source": []
  }
 ],
 "metadata": {
  "anaconda-cloud": {},
  "kernelspec": {
   "display_name": "Python 3",
   "language": "python",
   "name": "python3"
  },
  "language_info": {
   "codemirror_mode": {
    "name": "ipython",
    "version": 3
   },
   "file_extension": ".py",
   "mimetype": "text/x-python",
   "name": "python",
   "nbconvert_exporter": "python",
   "pygments_lexer": "ipython3",
   "version": "3.7.0"
  }
 },
 "nbformat": 4,
 "nbformat_minor": 1
}
