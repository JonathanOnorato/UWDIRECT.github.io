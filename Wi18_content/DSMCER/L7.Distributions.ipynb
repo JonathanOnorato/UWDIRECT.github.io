{
 "cells": [
  {
   "cell_type": "markdown",
   "metadata": {},
   "source": [
    "### Distributions, PDFs/PMFs, CDF and sampling from distributions\n",
    "\n",
    "Today we are going to explore statistical distributions, create figures of their PDFs and PMFs, calculate the CDFs and write some code to sample from the distributions.\n",
    "\n",
    "But first, imports..."
   ]
  },
  {
   "cell_type": "code",
   "execution_count": 3,
   "metadata": {
    "collapsed": true
   },
   "outputs": [],
   "source": [
    "import math\n",
    "\n",
    "import matplotlib.pyplot as plt\n",
    "import numpy as np\n",
    "import scipy \n",
    "\n",
    "%matplotlib inline"
   ]
  },
  {
   "cell_type": "markdown",
   "metadata": {},
   "source": [
    "#### Let's start with the binomial distribution\n",
    "\n",
    "Use LaTeX to write the equation for the PMF in the cell below.  Use the form with _N_ and _p_.  [Here](https://www.sharelatex.com/learn/Mathematical_expressions) is a guide to writing mathematical expressions in LaTeX."
   ]
  },
  {
   "cell_type": "markdown",
   "metadata": {},
   "source": []
  },
  {
   "cell_type": "markdown",
   "metadata": {},
   "source": [
    "#### Create a function that can be used to compute P(x).\n",
    "\n",
    "Your function will need three arguments.  Hint: look at ``math.factorial`` for computing factorials and ``math.pow`` for exponents."
   ]
  },
  {
   "cell_type": "code",
   "execution_count": 9,
   "metadata": {
    "collapsed": true
   },
   "outputs": [],
   "source": [
    "def binomial_P(N, p, n):\n",
    "    return ((math.factorial(N))/(math.factorial(n) * math.factorial(N - n)))*math.pow(p, n)*math.pow(1-p, N-n)"
   ]
  },
  {
   "cell_type": "markdown",
   "metadata": {},
   "source": [
    "#### Call your function on the integers from 0 to _N_\n",
    "\n",
    "Why can't it be bigger than _N_?\n",
    "\n",
    "Hint: Look at ``np.arange`` for generating linearly spaced integers.  List comprehensions are you friend here.  For loops also work.  A list comprehension is like a compressed for loop.  Use either construct as you prefer, but the list comprehension might look like this:\n",
    "```\n",
    "[binomial_P(20, .5, n) for n in np.arange(0, 21)]\n",
    "```"
   ]
  },
  {
   "cell_type": "code",
   "execution_count": 19,
   "metadata": {
    "collapsed": false
   },
   "outputs": [
    {
     "data": {
      "text/plain": [
       "0.17619705200195312"
      ]
     },
     "execution_count": 19,
     "metadata": {},
     "output_type": "execute_result"
    }
   ],
   "source": [
    "binomial_P(20, .5, 10)"
   ]
  },
  {
   "cell_type": "code",
   "execution_count": 20,
   "metadata": {
    "collapsed": false
   },
   "outputs": [],
   "source": [
    "Px = [binomial_P(20, .5, n) for n in np.arange(0, 21)]"
   ]
  },
  {
   "cell_type": "code",
   "execution_count": 21,
   "metadata": {
    "collapsed": false
   },
   "outputs": [
    {
     "data": {
      "text/plain": [
       "[9.5367431640625e-07,\n",
       " 1.9073486328125e-05,\n",
       " 0.0001811981201171875,\n",
       " 0.001087188720703125,\n",
       " 0.004620552062988281,\n",
       " 0.0147857666015625,\n",
       " 0.03696441650390625,\n",
       " 0.0739288330078125,\n",
       " 0.12013435363769531,\n",
       " 0.16017913818359375,\n",
       " 0.17619705200195312,\n",
       " 0.16017913818359375,\n",
       " 0.12013435363769531,\n",
       " 0.0739288330078125,\n",
       " 0.03696441650390625,\n",
       " 0.0147857666015625,\n",
       " 0.004620552062988281,\n",
       " 0.001087188720703125,\n",
       " 0.0001811981201171875,\n",
       " 1.9073486328125e-05,\n",
       " 9.5367431640625e-07]"
      ]
     },
     "execution_count": 21,
     "metadata": {},
     "output_type": "execute_result"
    }
   ],
   "source": [
    "Px"
   ]
  },
  {
   "cell_type": "markdown",
   "metadata": {},
   "source": [
    "#### Now, make a figure of _x_ vs _P(x)_\n",
    "\n",
    "Try to reproduce this figure:\n",
    "<img src=\"https://upload.wikimedia.org/wikipedia/commons/7/75/Binomial_distribution_pmf.svg\"/>"
   ]
  },
  {
   "cell_type": "code",
   "execution_count": null,
   "metadata": {
    "collapsed": true
   },
   "outputs": [],
   "source": []
  },
  {
   "cell_type": "code",
   "execution_count": null,
   "metadata": {
    "collapsed": true
   },
   "outputs": [],
   "source": []
  },
  {
   "cell_type": "code",
   "execution_count": null,
   "metadata": {
    "collapsed": true
   },
   "outputs": [],
   "source": []
  },
  {
   "cell_type": "markdown",
   "metadata": {},
   "source": [
    "#### Moving on, do the same thing for the Poisson distribution\n",
    "\n",
    "Write the LaTeX in the cell below:"
   ]
  },
  {
   "cell_type": "markdown",
   "metadata": {},
   "source": []
  },
  {
   "cell_type": "markdown",
   "metadata": {},
   "source": [
    "#### Create a function for the _P(X)_\n",
    "\n",
    "Include arguments for $\\lambda$ and _k_."
   ]
  },
  {
   "cell_type": "code",
   "execution_count": null,
   "metadata": {
    "collapsed": true
   },
   "outputs": [],
   "source": []
  },
  {
   "cell_type": "markdown",
   "metadata": {},
   "source": [
    "#### Call your function on integers linearly spaced"
   ]
  },
  {
   "cell_type": "code",
   "execution_count": null,
   "metadata": {
    "collapsed": true
   },
   "outputs": [],
   "source": []
  },
  {
   "cell_type": "markdown",
   "metadata": {},
   "source": [
    "#### Make a figure\n",
    "\n",
    "Try to reproduce this figure:\n",
    "<img src=\"https://upload.wikimedia.org/wikipedia/commons/thumb/1/16/Poisson_pmf.svg/650px-Poisson_pmf.svg.png\"/>\n"
   ]
  },
  {
   "cell_type": "code",
   "execution_count": null,
   "metadata": {
    "collapsed": true
   },
   "outputs": [],
   "source": []
  },
  {
   "cell_type": "code",
   "execution_count": null,
   "metadata": {
    "collapsed": true
   },
   "outputs": [],
   "source": []
  },
  {
   "cell_type": "code",
   "execution_count": null,
   "metadata": {
    "collapsed": true
   },
   "outputs": [],
   "source": []
  },
  {
   "cell_type": "markdown",
   "metadata": {},
   "source": [
    "#### Enough with the discrete distributions, let's try a continuous one:  The normal distribution.\n",
    "\n",
    "Begin by writing the P(x) equation in LaTeX in the cell below."
   ]
  },
  {
   "cell_type": "markdown",
   "metadata": {},
   "source": []
  },
  {
   "cell_type": "markdown",
   "metadata": {},
   "source": [
    "#### Write a function that implements P(x)"
   ]
  },
  {
   "cell_type": "code",
   "execution_count": null,
   "metadata": {
    "collapsed": true
   },
   "outputs": [],
   "source": []
  },
  {
   "cell_type": "markdown",
   "metadata": {},
   "source": [
    "#### Call your function on a list of numbers\n",
    "\n",
    "Hint: look at ``np.linspace``."
   ]
  },
  {
   "cell_type": "code",
   "execution_count": null,
   "metadata": {
    "collapsed": true
   },
   "outputs": [],
   "source": []
  },
  {
   "cell_type": "markdown",
   "metadata": {},
   "source": [
    "#### Reproduce this figure:\n",
    "\n",
    "<img src=\"https://upload.wikimedia.org/wikipedia/commons/thumb/7/74/Normal_Distribution_PDF.svg/700px-Normal_Distribution_PDF.svg.png\"/>"
   ]
  },
  {
   "cell_type": "code",
   "execution_count": null,
   "metadata": {
    "collapsed": true
   },
   "outputs": [],
   "source": []
  },
  {
   "cell_type": "code",
   "execution_count": null,
   "metadata": {
    "collapsed": true
   },
   "outputs": [],
   "source": []
  },
  {
   "cell_type": "code",
   "execution_count": null,
   "metadata": {
    "collapsed": true
   },
   "outputs": [],
   "source": []
  }
 ],
 "metadata": {
  "kernelspec": {
   "display_name": "Python 3",
   "language": "python",
   "name": "python3"
  },
  "language_info": {
   "codemirror_mode": {
    "name": "ipython",
    "version": 3
   },
   "file_extension": ".py",
   "mimetype": "text/x-python",
   "name": "python",
   "nbconvert_exporter": "python",
   "pygments_lexer": "ipython3",
   "version": "3.5.3"
  }
 },
 "nbformat": 4,
 "nbformat_minor": 0
}
