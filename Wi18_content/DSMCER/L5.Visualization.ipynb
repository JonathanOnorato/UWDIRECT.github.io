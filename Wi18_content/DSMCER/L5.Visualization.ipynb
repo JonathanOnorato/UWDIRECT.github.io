{
 "cells": [
  {
   "cell_type": "markdown",
   "metadata": {},
   "source": [
    "## Import our modules.  Remember it is always good to do this at the begining of a notebook."
   ]
  },
  {
   "cell_type": "markdown",
   "metadata": {},
   "source": [
    "If you don't have seaborn, you can install it with `conda install seaborn`."
   ]
  },
  {
   "cell_type": "code",
   "execution_count": null,
   "metadata": {
    "collapsed": true
   },
   "outputs": [],
   "source": [
    "import pandas as pd\n",
    "import matplotlib.pyplot as plt\n",
    "import seaborn as sns"
   ]
  },
  {
   "cell_type": "markdown",
   "metadata": {},
   "source": [
    "### Use the notebook magic to render matplotlib figures inline with the notebook cells"
   ]
  },
  {
   "cell_type": "code",
   "execution_count": null,
   "metadata": {
    "collapsed": true
   },
   "outputs": [],
   "source": [
    "%matplotlib inline"
   ]
  },
  {
   "cell_type": "markdown",
   "metadata": {},
   "source": [
    "### Let's begin!\n",
    "First, we need to load our data.\n",
    "\n",
    "We'll use pandas `read_csv` function.  Now, if you have trouble opening the file, remember how we solved the problem this morning."
   ]
  },
  {
   "cell_type": "code",
   "execution_count": null,
   "metadata": {
    "collapsed": false
   },
   "outputs": [],
   "source": [
    "df = pd.read_csv(\"HCEPDB_moldata.csv\")"
   ]
  },
  {
   "cell_type": "markdown",
   "metadata": {},
   "source": [
    "Let's take a look at the data to make sure it looks right with head and then look at the shape of the data frame."
   ]
  },
  {
   "cell_type": "code",
   "execution_count": null,
   "metadata": {
    "collapsed": false
   },
   "outputs": [],
   "source": [
    "df.head()"
   ]
  },
  {
   "cell_type": "code",
   "execution_count": null,
   "metadata": {
    "collapsed": false
   },
   "outputs": [],
   "source": [
    "df.shape"
   ]
  },
  {
   "cell_type": "markdown",
   "metadata": {},
   "source": [
    "OK, that's a lot of data.  Let's take a random subsampling of the full dataframe to make playing with the data faster. This is something you may consider doing when you have large data sets and want to do data exploration.  Thankfully, pandas has a nice feature called sample that will take a randome sample from our dataframe."
   ]
  },
  {
   "cell_type": "code",
   "execution_count": null,
   "metadata": {
    "collapsed": true
   },
   "outputs": [],
   "source": [
    "df_sample = df.sample(frac=.1)"
   ]
  },
  {
   "cell_type": "code",
   "execution_count": null,
   "metadata": {
    "collapsed": false
   },
   "outputs": [],
   "source": [
    "df_sample.head()"
   ]
  },
  {
   "cell_type": "code",
   "execution_count": null,
   "metadata": {
    "collapsed": false
   },
   "outputs": [],
   "source": [
    "df_sample.shape"
   ]
  },
  {
   "cell_type": "markdown",
   "metadata": {},
   "source": [
    "Cool. Cool, cool, cool.  Now we have a subset of data for some plotting fun.  We say some basic plots this AM with pandas, but let's do some nicer ones.  Let's start with PCE vs HOMO energy."
   ]
  },
  {
   "cell_type": "code",
   "execution_count": null,
   "metadata": {
    "collapsed": false
   },
   "outputs": [],
   "source": [
    "df.plot.scatter('pce', 'e_homo_alpha')"
   ]
  },
  {
   "cell_type": "markdown",
   "metadata": {},
   "source": [
    "Ooops!  We used the wrong dataframe.  That took a while, didn't it.  We can use the magic %%timeit to see how long that took.  By default %%time it repeats the function call some number of times and averages it.  For this purpose let's do one time.  See the timeit docs [here](http://ipython.readthedocs.io/en/stable/interactive/magics.html#magic-timeit)."
   ]
  },
  {
   "cell_type": "code",
   "execution_count": null,
   "metadata": {
    "collapsed": false
   },
   "outputs": [],
   "source": [
    "%%timeit -n 1 -r 1\n",
    "df.plot.scatter('pce', 'e_homo_alpha')"
   ]
  },
  {
   "cell_type": "markdown",
   "metadata": {},
   "source": [
    "Now let's see for our subsampled dataframe."
   ]
  },
  {
   "cell_type": "code",
   "execution_count": null,
   "metadata": {
    "collapsed": false
   },
   "outputs": [],
   "source": [
    "%%timeit -n 1 -r 1\n",
    "df_sample.plot.scatter('pce', 'e_homo_alpha')"
   ]
  },
  {
   "cell_type": "markdown",
   "metadata": {},
   "source": [
    "Nice... A lot shorter!  Notice about 10% of the data resulted in a 1/10 run time.  Makes sense."
   ]
  },
  {
   "cell_type": "markdown",
   "metadata": {},
   "source": [
    "But this thing is UGLY!  Let's see if we can't pretty it up.  First thing is that `pd.plot.XXX` returns a plot object that we can modify before it gets rendered by calling certain methods on the object.  Remember you can always use the Jupyter notebook tab completion after an object to find out what methods are available."
   ]
  },
  {
   "cell_type": "code",
   "execution_count": null,
   "metadata": {
    "collapsed": false
   },
   "outputs": [],
   "source": [
    "p_vs_homo_plt = df_sample.plot.scatter('pce', 'e_homo_alpha')\n",
    "p_vs_homo_plt.set_xlabel('PCE')\n",
    "p_vs_homo_plt.set_ylabel('HOMO')\n",
    "p_vs_homo_plt.set_title('Photoconversion Efficiency vs. HOMO energy')"
   ]
  },
  {
   "cell_type": "markdown",
   "metadata": {},
   "source": [
    "That's a bit better, but there are still some things we can do to make it look nicer.  Like put it on a grid and make the y-axis label more accurate and increase the size as well as setting the aspect ratio."
   ]
  },
  {
   "cell_type": "code",
   "execution_count": null,
   "metadata": {
    "collapsed": false
   },
   "outputs": [],
   "source": [
    "p_vs_homo_plt = df_sample.plot.scatter('pce', 'e_homo_alpha', figsize=(6,6))\n",
    "p_vs_homo_plt.set_xlabel('PCE')\n",
    "p_vs_homo_plt.set_ylabel('$E_{HOMO}$')\n",
    "p_vs_homo_plt.set_title('Photoconversion Efficiency vs. HOMO energy')\n",
    "p_vs_homo_plt.grid()"
   ]
  },
  {
   "cell_type": "markdown",
   "metadata": {},
   "source": [
    "Let's take a moment to figure something out.  Let's figure out how to do the following:\n",
    "* How to change the x range to be 2 to 10\n",
    "* How to change the y range to be -6 to -2\n",
    "* How to change the font size to 18\n",
    "* How to change the colors and transparency"
   ]
  },
  {
   "cell_type": "code",
   "execution_count": null,
   "metadata": {
    "collapsed": false,
    "scrolled": true
   },
   "outputs": [],
   "source": []
  },
  {
   "cell_type": "markdown",
   "metadata": {},
   "source": [
    "### The pandas visualization tools documentation is really good:\n",
    "* [docs here](https://pandas.pydata.org/pandas-docs/stable/visualization.html)"
   ]
  },
  {
   "cell_type": "markdown",
   "metadata": {},
   "source": [
    "One thing that is very useful is a scatterplot matrix to show the relationship between variables.  Let's make one now.  Be patient as this makes a lot of plots!"
   ]
  },
  {
   "cell_type": "code",
   "execution_count": null,
   "metadata": {
    "collapsed": false
   },
   "outputs": [],
   "source": [
    "from pandas.tools.plotting import scatter_matrix\n",
    "scatter_matrix(df_sample, figsize=(10,10), alpha=.2)"
   ]
  },
  {
   "cell_type": "markdown",
   "metadata": {},
   "source": [
    "WOW!  That is insane!  But it does give us a quick overview of the relationship between all the variables in the data frame.  That id column plot is goofy.  The ids are the molecule ids and don't contain any molecular information.  Let's turn that column into an index and move on."
   ]
  },
  {
   "cell_type": "code",
   "execution_count": null,
   "metadata": {
    "collapsed": false
   },
   "outputs": [],
   "source": [
    "df_sample.set_index('id', inplace=True)"
   ]
  },
  {
   "cell_type": "code",
   "execution_count": null,
   "metadata": {
    "collapsed": false
   },
   "outputs": [],
   "source": [
    "df_sample.head()"
   ]
  },
  {
   "cell_type": "markdown",
   "metadata": {},
   "source": [
    "OK, moving on, let's look at making density plots.  These show the probability density of particular values for a variable.  Notice how we used a different way of specifying the plot type."
   ]
  },
  {
   "cell_type": "code",
   "execution_count": null,
   "metadata": {
    "collapsed": false
   },
   "outputs": [],
   "source": [
    "df_sample['pce'].plot(kind='kde')"
   ]
  },
  {
   "cell_type": "markdown",
   "metadata": {},
   "source": [
    "Let's plot the kde overtop of the histogram (remember the histogram from this AM?).  The key here is to use a secondary axis.  First we save the plot object to `ax` then pass that to the second plot."
   ]
  },
  {
   "cell_type": "code",
   "execution_count": null,
   "metadata": {
    "collapsed": false
   },
   "outputs": [],
   "source": [
    "ax = df_sample['pce'].plot(kind='hist')\n",
    "df_sample['pce'].plot(kind='kde', ax=ax, secondary_y=True)"
   ]
  },
  {
   "cell_type": "markdown",
   "metadata": {},
   "source": [
    "## NEAT!"
   ]
  },
  {
   "cell_type": "markdown",
   "metadata": {},
   "source": [
    "What about trying other plot styles?  We can do this by calling `matplotlib.style.use(...)`.  Let's try the `ggplot` style that looks like the ggplot2 default style from R."
   ]
  },
  {
   "cell_type": "code",
   "execution_count": null,
   "metadata": {
    "collapsed": false
   },
   "outputs": [],
   "source": [
    "import matplotlib\n",
    "matplotlib.style.use('ggplot')"
   ]
  },
  {
   "cell_type": "code",
   "execution_count": null,
   "metadata": {
    "collapsed": false
   },
   "outputs": [],
   "source": [
    "df_sample['pce'].plot(kind='kde')"
   ]
  },
  {
   "cell_type": "markdown",
   "metadata": {},
   "source": [
    "You can find the list of matplotlib styles [here](https://tonysyu.github.io/raw_content/matplotlib-style-gallery/gallery.html)."
   ]
  },
  {
   "cell_type": "markdown",
   "metadata": {},
   "source": [
    "## Seaborn for fun and pretty pictures!\n",
    "Matplotlib is great for basic scatter plots, bar plots, time series, etc.  But if we want to do really fancy plots, we need to look to other tools like Seaborn.  This is a super quick intro to seaborn."
   ]
  },
  {
   "cell_type": "markdown",
   "metadata": {},
   "source": [
    "We'll make three different contour / surface plots.\n",
    "* Basic contour plot\n",
    "* Density plot\n",
    "\n",
    "Examples roughly taken from [here](https://python-graph-gallery.com/1136-2/)."
   ]
  },
  {
   "cell_type": "code",
   "execution_count": null,
   "metadata": {
    "collapsed": false
   },
   "outputs": [],
   "source": [
    "sns.set_style('white')\n",
    "sns.kdeplot(df_sample['pce'], df_sample['e_homo_alpha'])"
   ]
  },
  {
   "cell_type": "code",
   "execution_count": null,
   "metadata": {
    "collapsed": false
   },
   "outputs": [],
   "source": [
    "sns.kdeplot(df_sample['pce'], df_sample['e_homo_alpha'], cmap='Reds', shade=True, bw=.15)"
   ]
  },
  {
   "cell_type": "code",
   "execution_count": null,
   "metadata": {
    "collapsed": false
   },
   "outputs": [],
   "source": []
  },
  {
   "cell_type": "markdown",
   "metadata": {},
   "source": [
    "### Super COOL!\n",
    "\n",
    "Let's go back to pandas and matplotlib and look at subplots."
   ]
  },
  {
   "cell_type": "code",
   "execution_count": null,
   "metadata": {
    "collapsed": false
   },
   "outputs": [],
   "source": [
    "fix, axes = plt.subplots(nrows=2, ncols=1, figsize=(6,6))\n",
    "df_sample.plot(x='pce', y='e_homo_alpha', ax=axes[0])\n",
    "df_sample.plot(x='pce', y='e_gap_alpha', ax=axes[1])"
   ]
  },
  {
   "cell_type": "markdown",
   "metadata": {},
   "source": [
    "Ooops!  That doesn't look at all right?  What's wrong with this figure?"
   ]
  },
  {
   "cell_type": "markdown",
   "metadata": {},
   "source": [
    "### In class exercise\n",
    "\n",
    "Fix up the above subplots so that they look like what we might expect.  Also, add titles, increase the font size, change colors and alpha, and finally figure out how to change the margins and layout so they are side by side."
   ]
  },
  {
   "cell_type": "code",
   "execution_count": null,
   "metadata": {
    "collapsed": true
   },
   "outputs": [],
   "source": []
  },
  {
   "cell_type": "code",
   "execution_count": null,
   "metadata": {
    "collapsed": true
   },
   "outputs": [],
   "source": []
  },
  {
   "cell_type": "code",
   "execution_count": null,
   "metadata": {
    "collapsed": true
   },
   "outputs": [],
   "source": []
  },
  {
   "cell_type": "code",
   "execution_count": null,
   "metadata": {
    "collapsed": true
   },
   "outputs": [],
   "source": []
  },
  {
   "cell_type": "code",
   "execution_count": null,
   "metadata": {
    "collapsed": true
   },
   "outputs": [],
   "source": []
  },
  {
   "cell_type": "code",
   "execution_count": null,
   "metadata": {
    "collapsed": true
   },
   "outputs": [],
   "source": []
  },
  {
   "cell_type": "code",
   "execution_count": null,
   "metadata": {
    "collapsed": true
   },
   "outputs": [],
   "source": []
  },
  {
   "cell_type": "code",
   "execution_count": null,
   "metadata": {
    "collapsed": true
   },
   "outputs": [],
   "source": []
  }
 ],
 "metadata": {
  "kernelspec": {
   "display_name": "Python 3",
   "language": "python",
   "name": "python3"
  },
  "language_info": {
   "codemirror_mode": {
    "name": "ipython",
    "version": 3
   },
   "file_extension": ".py",
   "mimetype": "text/x-python",
   "name": "python",
   "nbconvert_exporter": "python",
   "pygments_lexer": "ipython3",
   "version": "3.5.3"
  }
 },
 "nbformat": 4,
 "nbformat_minor": 0
}
